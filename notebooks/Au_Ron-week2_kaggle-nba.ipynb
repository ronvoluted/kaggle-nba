{
 "cells": [
  {
   "cell_type": "code",
   "execution_count": 25,
   "id": "fossil-mandate",
   "metadata": {},
   "outputs": [
    {
     "name": "stdout",
     "output_type": "stream",
     "text": [
      "The autoreload extension is already loaded. To reload it, use:\n",
      "  %reload_ext autoreload\n"
     ]
    }
   ],
   "source": [
    "# Activate cell with Y key to enable module imports if not running notebook within Docker\n",
    "# Deactivate cell with R key\n",
    "\n",
    "import os\n",
    "import sys\n",
    "\n",
    "module_path = os.path.abspath(os.path.join('..'))\n",
    "if module_path not in sys.path:\n",
    "    sys.path.append(module_path)\n",
    "\n",
    "%load_ext autoreload\n",
    "%autoreload 2"
   ]
  },
  {
   "cell_type": "raw",
   "id": "gorgeous-chemical",
   "metadata": {},
   "source": [
    "# Optional\n",
    "import warnings\n",
    "warnings.filterwarnings('ignore')"
   ]
  },
  {
   "cell_type": "code",
   "execution_count": 43,
   "id": "interpreted-surname",
   "metadata": {},
   "outputs": [],
   "source": [
    "import pandas as pd\n",
    "import numpy as np\n",
    "\n",
    "df = pd.read_csv('../data/raw/train.csv')\n",
    "dfc = df.copy()\n",
    "\n",
    "target = dfc.loc[:, 'TARGET_5Yrs':]\n",
    "dfc_labeled = dfc.loc[:, 'GP':'TARGET_5Yrs']\n",
    "dfc = dfc.loc[:, 'GP':'TOV']"
   ]
  },
  {
   "cell_type": "code",
   "execution_count": 44,
   "id": "looking-jacob",
   "metadata": {},
   "outputs": [],
   "source": [
    "from src.features.kpw_build_features import build\n",
    "from sklearn.preprocessing import StandardScaler\n",
    "\n",
    "dfc = build(dfc)\n",
    "\n",
    "scaler = StandardScaler()\n",
    "dfc = scaler.fit_transform(dfc)"
   ]
  },
  {
   "cell_type": "code",
   "execution_count": 45,
   "id": "intermediate-inspiration",
   "metadata": {},
   "outputs": [],
   "source": [
    "from sklearn.model_selection import train_test_split\n",
    "X_train, X_test, y_train, y_test = train_test_split(dfc, target, test_size=0.2, random_state=5)\n",
    "X_train, X_valid, y_train, y_valid = train_test_split(X_train, y_train, test_size=0.2, random_state=10)"
   ]
  },
  {
   "cell_type": "code",
   "execution_count": 46,
   "id": "perfect-location",
   "metadata": {},
   "outputs": [
    {
     "data": {
      "text/plain": [
       "LogisticRegression()"
      ]
     },
     "execution_count": 46,
     "metadata": {},
     "output_type": "execute_result"
    }
   ],
   "source": [
    "from sklearn.linear_model import LogisticRegression\n",
    "\n",
    "#log_reg = LogisticRegression(max_iter=8_000)\n",
    "log_reg = LogisticRegression()\n",
    "log_reg.fit(X_train, y_train.values.ravel())"
   ]
  },
  {
   "cell_type": "code",
   "execution_count": 47,
   "id": "narrative-shoot",
   "metadata": {},
   "outputs": [
    {
     "data": {
      "text/plain": [
       "KNeighborsClassifier()"
      ]
     },
     "execution_count": 47,
     "metadata": {},
     "output_type": "execute_result"
    }
   ],
   "source": [
    "from sklearn.neighbors import KNeighborsClassifier\n",
    "\n",
    "knn = KNeighborsClassifier()\n",
    "knn.fit(X_train, y_train.values.ravel())"
   ]
  },
  {
   "cell_type": "code",
   "execution_count": 48,
   "id": "wrapped-vegetation",
   "metadata": {},
   "outputs": [
    {
     "data": {
      "text/plain": [
       "RandomForestClassifier(max_depth=5)"
      ]
     },
     "execution_count": 48,
     "metadata": {},
     "output_type": "execute_result"
    }
   ],
   "source": [
    "from sklearn.ensemble import RandomForestClassifier\n",
    "\n",
    "# Must use non-default hyperparameters to reduce overfitting\n",
    "rfc = RandomForestClassifier(max_depth=5)\n",
    "rfc.fit(X_train, y_train.values.ravel())"
   ]
  },
  {
   "cell_type": "code",
   "execution_count": 55,
   "id": "assumed-retention",
   "metadata": {},
   "outputs": [
    {
     "name": "stdout",
     "output_type": "stream",
     "text": [
      "RMSE: 0.3715679022650535\n",
      "MAE: 0.2761254119873047\n"
     ]
    },
    {
     "data": {
      "text/plain": [
       "0.72302734375"
      ]
     },
     "execution_count": 55,
     "metadata": {},
     "output_type": "execute_result"
    }
   ],
   "source": [
    "from sklearn.metrics import accuracy_score, mean_squared_error as mse, mean_absolute_error as mae\n",
    "from src.models.eval_ratio_accuracy import ratioAccuracy\n",
    "\n",
    "y_mean = y_train.mean()\n",
    "y_base = np.full((len(y_train), 1), y_mean)\n",
    "print('RMSE:' ,mse(y_train, y_base, squared=False))\n",
    "print('MAE:', mae(y_train, y_base))\n",
    "print('Base accuracy:', ratioAccuracy(y_train))"
   ]
  },
  {
   "cell_type": "code",
   "execution_count": null,
   "id": "competent-teddy",
   "metadata": {},
   "outputs": [],
   "source": [
    "from src.models.eval_model import eval_model\n",
    "\n",
    "print('Logistic Regression:')\n",
    "eval_model(log_reg, X_train, y_train, X_valid, y_valid)\n",
    "\n",
    "print('K Nearest Neighbors:')\n",
    "eval_model(knn, X_train, y_train, X_valid, y_valid)\n",
    "\n",
    "print('Random Forest:')\n",
    "eval_model(rfc, X_train, y_train, X_valid, y_valid)"
   ]
  },
  {
   "cell_type": "code",
   "execution_count": 50,
   "id": "official-license",
   "metadata": {},
   "outputs": [],
   "source": [
    "from hyperopt import fmin, hp, STATUS_OK, tpe, Trials\n",
    "from sklearn.model_selection import cross_val_score"
   ]
  },
  {
   "cell_type": "code",
   "execution_count": 41,
   "id": "caring-fault",
   "metadata": {},
   "outputs": [
    {
     "name": "stdout",
     "output_type": "stream",
     "text": [
      "100%|█████████████████████████████████████████████████████| 50/50 [06:36<00:00,  7.93s/trial, best loss: -0.8353515625]\n",
      "Best Logistic Regression Elasticnet hyperparameter values:\n",
      " {'C': 1.4000000000000001, 'fit_intercept': 1, 'l1_ratio': 1.0, 'multi_class': 1}\n"
     ]
    }
   ],
   "source": [
    "log_reg_space = {\n",
    "    'C' : hp.quniform('C', 0.01, 100, 0.05),\n",
    "    'fit_intercept' : hp.choice('fit_intercept', [False, True]),\n",
    "    'multi_class': hp.choice('multi_class', ['auto', 'ovr', 'multinomial']),\n",
    "    'l1_ratio': hp.quniform('l1_ratio', 0.0, 1.0, 0.05)\n",
    "}\n",
    "\n",
    "def tune_log_reg(space):\n",
    "    log_reg_hyperopt = LogisticRegression(\n",
    "        penalty = 'elasticnet',\n",
    "        C = space['C'],\n",
    "        fit_intercept = space['fit_intercept'],\n",
    "        solver = 'saga',\n",
    "        max_iter = 10_000,\n",
    "        multi_class = space['multi_class'],\n",
    "        n_jobs = -1,\n",
    "        l1_ratio = space['l1_ratio']\n",
    "    )\n",
    "    acc = cross_val_score(log_reg_hyperopt, X_train, y_train.values.ravel(), scoring=\"accuracy\", cv=10).mean()\n",
    "    return {\"loss\": -acc, \"status\": STATUS_OK}\n",
    "\n",
    "log_reg_best = fmin(\n",
    "    fn = tune_log_reg,\n",
    "    space = log_reg_space,\n",
    "    algo = tpe.suggest,\n",
    "    max_evals = 50\n",
    ")\n",
    "\n",
    "print('Best Logistic Regression Elasticnet hyperparameter values:\\n', log_reg_best)"
   ]
  },
  {
   "cell_type": "code",
   "execution_count": 42,
   "id": "muslim-bones",
   "metadata": {},
   "outputs": [
    {
     "name": "stdout",
     "output_type": "stream",
     "text": [
      "100%|██████████████████████████████████████████████████████| 50/50 [00:40<00:00,  1.24trial/s, best loss: -0.835546875]\n",
      "Best KNN hyperparameter values:\n",
      " {'algorithm': 2, 'n_neighbors': 42.0, 'p': 1, 'weights': 0}\n"
     ]
    }
   ],
   "source": [
    "knn_space = {\n",
    "    'n_neighbors' : hp.quniform('n_neighbors', 1, 100, 1),\n",
    "    'weights' : hp.choice('weights', ['uniform', 'distance']),\n",
    "    'algorithm' : hp.choice('algorithm', ['ball_tree', 'kd_tree', 'brute']),\n",
    "    'p' : hp.choice('p', [1, 2]),\n",
    "}\n",
    "\n",
    "def tune_knn(space):\n",
    "    knn_hyperopt = KNeighborsClassifier(\n",
    "        n_neighbors = int(space['n_neighbors']),\n",
    "        weights = space['weights'],\n",
    "        algorithm = space['algorithm'],\n",
    "        p = space['p'],\n",
    "        n_jobs = -1\n",
    "    )\n",
    "    acc = cross_val_score(knn_hyperopt, X_train, y_train.values.ravel(), scoring=\"accuracy\", cv=10).mean()\n",
    "    return {\"loss\": -acc, \"status\": STATUS_OK}\n",
    "\n",
    "knn_best = fmin(\n",
    "    fn = tune_knn,\n",
    "    space = knn_space,\n",
    "    algo = tpe.suggest,\n",
    "    max_evals = 50\n",
    ")\n",
    "\n",
    "print('Best KNN hyperparameter values:\\n', knn_best)"
   ]
  },
  {
   "cell_type": "code",
   "execution_count": 22,
   "id": "administrative-holiday",
   "metadata": {},
   "outputs": [
    {
     "name": "stdout",
     "output_type": "stream",
     "text": [
      "100%|███████████████████████████████████████████████████| 50/50 [1:24:14<00:00, 101.10s/trial, best loss: -0.835546875]\n",
      "Best RFC hyperparameter values:\n",
      " {'criterion': 1, 'max_depth': 10.0, 'max_features': 2, 'n_estimators': 4230.0}\n"
     ]
    }
   ],
   "source": [
    "rfc_space = {\n",
    "    'n_estimators' : hp.quniform('n_estimators', 1, 10_000, 10),\n",
    "    'criterion' : hp.choice('criterion', ['gini', 'entropy']),\n",
    "    'max_depth' : hp.quniform('max_depth', 5, 100, 5),\n",
    "    'max_features' : hp.choice('max_features', ['sqrt', 'log2', None])\n",
    "}\n",
    "\n",
    "def tune_rfc(space):\n",
    "    rfc_hyperopt = RandomForestClassifier(\n",
    "        n_estimators = int(space['n_estimators']),\n",
    "        criterion = space['criterion'],\n",
    "        max_depth = space['max_depth'],\n",
    "        max_features = space['max_features'],\n",
    "        n_jobs = -1\n",
    "    )\n",
    "    acc = cross_val_score(rfc_hyperopt, X_train, y_train.values.ravel(), scoring=\"accuracy\", cv=10).mean()\n",
    "    return {\"loss\": -acc, \"status\": STATUS_OK}\n",
    "\n",
    "rfc_best = fmin(\n",
    "    fn = tune_rfc,\n",
    "    space = rfc_space,\n",
    "    algo = tpe.suggest,\n",
    "    max_evals = 50\n",
    ")\n",
    "\n",
    "print('Best RFC hyperparameter values:\\n', rfc_best)"
   ]
  },
  {
   "cell_type": "code",
   "execution_count": 51,
   "id": "rotary-paris",
   "metadata": {},
   "outputs": [
    {
     "data": {
      "text/plain": [
       "RandomForestClassifier(criterion='entropy', max_depth=10, max_features=None,\n",
       "                       n_estimators=4230, n_jobs=-1)"
      ]
     },
     "execution_count": 51,
     "metadata": {},
     "output_type": "execute_result"
    }
   ],
   "source": [
    "log_reg_l2_optimised = LogisticRegression(\n",
    "    penalty = 'l2',\n",
    "    C = 97.95,\n",
    "    fit_intercept = True,\n",
    "    solver = 'saga',\n",
    "    max_iter = 10_000,\n",
    "    multi_class = 'multinomial',\n",
    "    n_jobs = -1\n",
    ")\n",
    "\n",
    "log_reg_l2_optimised.fit(X_train, y_train.values.ravel())\n",
    "\n",
    "log_reg_elastic_optimised = LogisticRegression(\n",
    "    penalty = 'elasticnet',\n",
    "    C = 1.4,\n",
    "    fit_intercept = True,\n",
    "    solver = 'saga',\n",
    "    max_iter = 10_000,\n",
    "    multi_class = 'ovr',\n",
    "    l1_ratio = 1.0,\n",
    "    n_jobs = -1\n",
    ")\n",
    "\n",
    "log_reg_elastic_optimised.fit(X_train, y_train.values.ravel())\n",
    "\n",
    "\n",
    "knn_optimised = KNeighborsClassifier(\n",
    "    n_neighbors = 42,\n",
    "    weights = 'uniform',\n",
    "    algorithm = 'brute',\n",
    "    p = 2,\n",
    "    n_jobs = -1\n",
    ")\n",
    "\n",
    "knn_optimised.fit(X_train, y_train.values.ravel())\n",
    "\n",
    "rfc_optimised = RandomForestClassifier(\n",
    "    n_estimators = 4230,\n",
    "    criterion = 'entropy',\n",
    "    max_depth = 10,\n",
    "    max_features = None,\n",
    "    n_jobs = -1\n",
    ")\n",
    "\n",
    "rfc_optimised.fit(X_train, y_train.values.ravel())"
   ]
  },
  {
   "cell_type": "code",
   "execution_count": 52,
   "id": "human-advantage",
   "metadata": {},
   "outputs": [
    {
     "name": "stdout",
     "output_type": "stream",
     "text": [
      "Logistic Regression L2 Tuned:\n"
     ]
    },
    {
     "data": {
      "text/html": [
       "<div style=\"padding: 1rem; background: #2E3440; font-family: Ubuntu, 'Helvetica Neue', 'Segoe UI';\"><div style=\"max-width: 100%; height: 2rem; display: flex;\"><span style=\"min-width: 5rem; margin-top: 0.5rem; margin-right: 1rem;\"></span><div style=\"width: 100%; height: 2rem; display: flex; justify-content: space-evenly; padding: 0.25rem; text-align: center; font-weight: 700\"><span style=\"width: 6rem; margin-top: 0.25em; color: #EBCB8B\">AUROC</span><span style=\"width: 6rem; margin-top: 0.25em; color: #A3BE8C;\">Accuracy</span><span style=\"width: 6rem; margin-top: 0.25em; color: #BF616A\">F1</span><span style=\"width: 6rem; margin-top: 0.25em; color: #B48EAD\">Recall</span><span style=\"width: 6rem; margin-top: 0.25em; color: #D08770\">R2</span></div></div><div style=\"max-width: 100%; height: 2rem; display: flex; margin-top: 0.5rem;\"><div style=\"min-width: 5rem; margin-top: 0.5rem; margin-right: 1rem; font-weight: 700; color: ghostwhite;\">Validation</div><div style=\"width: 100%; height: 2rem; display: flex; justify-content: space-evenly; padding: 0.25rem; border-radius: 4px; box-shadow: 0 4px 6px 2px black; text-align: center; background: #3B4252\"><span style=\"width: 6rem; margin-top: 0.25em; color: #EBCB8B\">0.68943763</span><span style=\"width: 6rem; margin-top: 0.25em; color: #A3BE8C\">0.825</span><span style=\"width: 6rem; margin-top: 0.25em; color: #BF616A\">0.9030303</span><span style=\"width: 6rem; margin-top: 0.25em; color: #B48EAD\">0.99617956</span><span style=\"width: 6rem; margin-top: 0.25em; color: #D08770\">0.825</span></div></div><div style=\"max-width: 100%; height: 2rem; display: flex; margin-top: 1.5rem; margin-bottom: 1rem;\"><div style=\"min-width: 5rem; margin-top: 0.5rem; margin-right: 1rem; font-weight: 700; color: ghostwhite;\">Training</div><div style=\"width: 100%; height: 2rem; display: flex; justify-content: space-evenly; padding: 0.25rem; border-radius: 4px; box-shadow: 0 4px 6px 2px black; text-align: center; background: #3B4252\"><span style=\"width: 6rem; margin-top: 0.25em; color: #EBCB8B\">0.71147158</span><span style=\"width: 6rem; margin-top: 0.25em; color: #A3BE8C\">0.83574219</span><span style=\"width: 6rem; margin-top: 0.25em; color: #BF616A\">0.90988964</span><span style=\"width: 6rem; margin-top: 0.25em; color: #B48EAD\">0.99368125</span><span style=\"width: 6rem; margin-top: 0.25em; color: #D08770\">0.83574219</span></div></div></div>"
      ],
      "text/plain": [
       "<IPython.core.display.HTML object>"
      ]
     },
     "metadata": {},
     "output_type": "display_data"
    },
    {
     "name": "stdout",
     "output_type": "stream",
     "text": [
      "Logistic Regression Elastic Tuned:\n"
     ]
    },
    {
     "data": {
      "text/html": [
       "<div style=\"padding: 1rem; background: #2E3440; font-family: Ubuntu, 'Helvetica Neue', 'Segoe UI';\"><div style=\"max-width: 100%; height: 2rem; display: flex;\"><span style=\"min-width: 5rem; margin-top: 0.5rem; margin-right: 1rem;\"></span><div style=\"width: 100%; height: 2rem; display: flex; justify-content: space-evenly; padding: 0.25rem; text-align: center; font-weight: 700\"><span style=\"width: 6rem; margin-top: 0.25em; color: #EBCB8B\">AUROC</span><span style=\"width: 6rem; margin-top: 0.25em; color: #A3BE8C;\">Accuracy</span><span style=\"width: 6rem; margin-top: 0.25em; color: #BF616A\">F1</span><span style=\"width: 6rem; margin-top: 0.25em; color: #B48EAD\">Recall</span><span style=\"width: 6rem; margin-top: 0.25em; color: #D08770\">R2</span></div></div><div style=\"max-width: 100%; height: 2rem; display: flex; margin-top: 0.5rem;\"><div style=\"min-width: 5rem; margin-top: 0.5rem; margin-right: 1rem; font-weight: 700; color: ghostwhite;\">Validation</div><div style=\"width: 100%; height: 2rem; display: flex; justify-content: space-evenly; padding: 0.25rem; border-radius: 4px; box-shadow: 0 4px 6px 2px black; text-align: center; background: #3B4252\"><span style=\"width: 6rem; margin-top: 0.25em; color: #EBCB8B\">0.69118389</span><span style=\"width: 6rem; margin-top: 0.25em; color: #A3BE8C\">0.825</span><span style=\"width: 6rem; margin-top: 0.25em; color: #BF616A\">0.90311419</span><span style=\"width: 6rem; margin-top: 0.25em; color: #B48EAD\">0.99713467</span><span style=\"width: 6rem; margin-top: 0.25em; color: #D08770\">0.825</span></div></div><div style=\"max-width: 100%; height: 2rem; display: flex; margin-top: 1.5rem; margin-bottom: 1rem;\"><div style=\"min-width: 5rem; margin-top: 0.5rem; margin-right: 1rem; font-weight: 700; color: ghostwhite;\">Training</div><div style=\"width: 100%; height: 2rem; display: flex; justify-content: space-evenly; padding: 0.25rem; border-radius: 4px; box-shadow: 0 4px 6px 2px black; text-align: center; background: #3B4252\"><span style=\"width: 6rem; margin-top: 0.25em; color: #EBCB8B\">0.71135028</span><span style=\"width: 6rem; margin-top: 0.25em; color: #A3BE8C\">0.83613281</span><span style=\"width: 6rem; margin-top: 0.25em; color: #BF616A\">0.91010393</span><span style=\"width: 6rem; margin-top: 0.25em; color: #B48EAD\">0.99391528</span><span style=\"width: 6rem; margin-top: 0.25em; color: #D08770\">0.83613281</span></div></div></div>"
      ],
      "text/plain": [
       "<IPython.core.display.HTML object>"
      ]
     },
     "metadata": {},
     "output_type": "display_data"
    },
    {
     "name": "stdout",
     "output_type": "stream",
     "text": [
      "K Nearest Neighbors Tuned:\n"
     ]
    },
    {
     "data": {
      "text/html": [
       "<div style=\"padding: 1rem; background: #2E3440; font-family: Ubuntu, 'Helvetica Neue', 'Segoe UI';\"><div style=\"max-width: 100%; height: 2rem; display: flex;\"><span style=\"min-width: 5rem; margin-top: 0.5rem; margin-right: 1rem;\"></span><div style=\"width: 100%; height: 2rem; display: flex; justify-content: space-evenly; padding: 0.25rem; text-align: center; font-weight: 700\"><span style=\"width: 6rem; margin-top: 0.25em; color: #EBCB8B\">AUROC</span><span style=\"width: 6rem; margin-top: 0.25em; color: #A3BE8C;\">Accuracy</span><span style=\"width: 6rem; margin-top: 0.25em; color: #BF616A\">F1</span><span style=\"width: 6rem; margin-top: 0.25em; color: #B48EAD\">Recall</span><span style=\"width: 6rem; margin-top: 0.25em; color: #D08770\">R2</span></div></div><div style=\"max-width: 100%; height: 2rem; display: flex; margin-top: 0.5rem;\"><div style=\"min-width: 5rem; margin-top: 0.5rem; margin-right: 1rem; font-weight: 700; color: ghostwhite;\">Validation</div><div style=\"width: 100%; height: 2rem; display: flex; justify-content: space-evenly; padding: 0.25rem; border-radius: 4px; box-shadow: 0 4px 6px 2px black; text-align: center; background: #3B4252\"><span style=\"width: 6rem; margin-top: 0.25em; color: #EBCB8B\">0.63705826</span><span style=\"width: 6rem; margin-top: 0.25em; color: #A3BE8C\">0.81796875</span><span style=\"width: 6rem; margin-top: 0.25em; color: #BF616A\">0.89978495</span><span style=\"width: 6rem; margin-top: 0.25em; color: #B48EAD\">0.99904489</span><span style=\"width: 6rem; margin-top: 0.25em; color: #D08770\">0.81796875</span></div></div><div style=\"max-width: 100%; height: 2rem; display: flex; margin-top: 1.5rem; margin-bottom: 1rem;\"><div style=\"min-width: 5rem; margin-top: 0.5rem; margin-right: 1rem; font-weight: 700; color: ghostwhite;\">Training</div><div style=\"width: 100%; height: 2rem; display: flex; justify-content: space-evenly; padding: 0.25rem; border-radius: 4px; box-shadow: 0 4px 6px 2px black; text-align: center; background: #3B4252\"><span style=\"width: 6rem; margin-top: 0.25em; color: #EBCB8B\">0.72864153</span><span style=\"width: 6rem; margin-top: 0.25em; color: #A3BE8C\">0.83496094</span><span style=\"width: 6rem; margin-top: 0.25em; color: #BF616A\">0.91002023</span><span style=\"width: 6rem; margin-top: 0.25em; color: #B48EAD\">1.0</span><span style=\"width: 6rem; margin-top: 0.25em; color: #D08770\">0.83496094</span></div></div></div>"
      ],
      "text/plain": [
       "<IPython.core.display.HTML object>"
      ]
     },
     "metadata": {},
     "output_type": "display_data"
    },
    {
     "name": "stdout",
     "output_type": "stream",
     "text": [
      "Random Forest Tuned:\n"
     ]
    },
    {
     "data": {
      "text/html": [
       "<div style=\"padding: 1rem; background: #2E3440; font-family: Ubuntu, 'Helvetica Neue', 'Segoe UI';\"><div style=\"max-width: 100%; height: 2rem; display: flex;\"><span style=\"min-width: 5rem; margin-top: 0.5rem; margin-right: 1rem;\"></span><div style=\"width: 100%; height: 2rem; display: flex; justify-content: space-evenly; padding: 0.25rem; text-align: center; font-weight: 700\"><span style=\"width: 6rem; margin-top: 0.25em; color: #EBCB8B\">AUROC</span><span style=\"width: 6rem; margin-top: 0.25em; color: #A3BE8C;\">Accuracy</span><span style=\"width: 6rem; margin-top: 0.25em; color: #BF616A\">F1</span><span style=\"width: 6rem; margin-top: 0.25em; color: #B48EAD\">Recall</span><span style=\"width: 6rem; margin-top: 0.25em; color: #D08770\">R2</span></div></div><div style=\"max-width: 100%; height: 2rem; display: flex; margin-top: 0.5rem;\"><div style=\"min-width: 5rem; margin-top: 0.5rem; margin-right: 1rem; font-weight: 700; color: ghostwhite;\">Validation</div><div style=\"width: 100%; height: 2rem; display: flex; justify-content: space-evenly; padding: 0.25rem; border-radius: 4px; box-shadow: 0 4px 6px 2px black; text-align: center; background: #3B4252\"><span style=\"width: 6rem; margin-top: 0.25em; color: #EBCB8B\">0.67215957</span><span style=\"width: 6rem; margin-top: 0.25em; color: #A3BE8C\">0.8171875</span><span style=\"width: 6rem; margin-top: 0.25em; color: #BF616A\">0.8987013</span><span style=\"width: 6rem; margin-top: 0.25em; color: #B48EAD\">0.99140401</span><span style=\"width: 6rem; margin-top: 0.25em; color: #D08770\">0.8171875</span></div></div><div style=\"max-width: 100%; height: 2rem; display: flex; margin-top: 1.5rem; margin-bottom: 1rem;\"><div style=\"min-width: 5rem; margin-top: 0.5rem; margin-right: 1rem; font-weight: 700; color: ghostwhite;\">Training</div><div style=\"width: 100%; height: 2rem; display: flex; justify-content: space-evenly; padding: 0.25rem; border-radius: 4px; box-shadow: 0 4px 6px 2px black; text-align: center; background: #3B4252\"><span style=\"width: 6rem; margin-top: 0.25em; color: #EBCB8B\">0.98071662</span><span style=\"width: 6rem; margin-top: 0.25em; color: #A3BE8C\">0.87285156</span><span style=\"width: 6rem; margin-top: 0.25em; color: #BF616A\">0.92921605</span><span style=\"width: 6rem; margin-top: 0.25em; color: #B48EAD\">1.0</span><span style=\"width: 6rem; margin-top: 0.25em; color: #D08770\">0.87285156</span></div></div></div>"
      ],
      "text/plain": [
       "<IPython.core.display.HTML object>"
      ]
     },
     "metadata": {},
     "output_type": "display_data"
    },
    {
     "data": {
      "text/plain": [
       "(RandomForestClassifier(criterion='entropy', max_depth=10, max_features=None,\n",
       "                        n_estimators=4230, n_jobs=-1),\n",
       " 0.9807166218459115,\n",
       " 0.6721595730290099)"
      ]
     },
     "execution_count": 52,
     "metadata": {},
     "output_type": "execute_result"
    },
    {
     "data": {
      "image/png": "[encoded data removed]",
      "text/plain": [
       "<Figure size 432x288 with 2 Axes>"
      ]
     },
     "metadata": {
      "needs_background": "light"
     },
     "output_type": "display_data"
    },
    {
     "data": {
      "image/png": "[encoded data removed]",
      "text/plain": [
       "<Figure size 432x288 with 2 Axes>"
      ]
     },
     "metadata": {
      "needs_background": "light"
     },
     "output_type": "display_data"
    },
    {
     "data": {
      "image/png": "[encoded data removed]",
      "text/plain": [
       "<Figure size 432x288 with 2 Axes>"
      ]
     },
     "metadata": {
      "needs_background": "light"
     },
     "output_type": "display_data"
    },
    {
     "data": {
      "image/png": "[encoded data removed]",
      "text/plain": [
       "<Figure size 432x288 with 2 Axes>"
      ]
     },
     "metadata": {
      "needs_background": "light"
     },
     "output_type": "display_data"
    },
    {
     "data": {
      "image/png": "[encoded data removed]",
      "text/plain": [
       "<Figure size 432x288 with 2 Axes>"
      ]
     },
     "metadata": {
      "needs_background": "light"
     },
     "output_type": "display_data"
    },
    {
     "data": {
      "image/png": "[encoded data removed]",
      "text/plain": [
       "<Figure size 432x288 with 2 Axes>"
      ]
     },
     "metadata": {
      "needs_background": "light"
     },
     "output_type": "display_data"
    },
    {
     "data": {
      "image/png": "[encoded data removed]",
      "text/plain": [
       "<Figure size 432x288 with 2 Axes>"
      ]
     },
     "metadata": {
      "needs_background": "light"
     },
     "output_type": "display_data"
    },
    {
     "data": {
      "image/png": "[encoded data removed]",
      "text/plain": [
       "<Figure size 432x288 with 2 Axes>"
      ]
     },
     "metadata": {
      "needs_background": "light"
     },
     "output_type": "display_data"
    }
   ],
   "source": [
    "print('Logistic Regression L2 Optimised:')\n",
    "eval_model(log_reg_l2_optimised, X_train, y_train, X_valid, y_valid)\n",
    "\n",
    "print('Logistic Regression Elastic Optimised:')\n",
    "eval_model(log_reg_elastic_optimised, X_train, y_train, X_valid, y_valid)\n",
    "\n",
    "print('K Nearest Neighbors Optimised:')\n",
    "eval_model(knn_optimised, X_train, y_train, X_valid, y_valid)\n",
    "\n",
    "print('Random Forest Optimised:')\n",
    "eval_model(rfc_optimised, X_train, y_train, X_valid, y_valid)"
   ]
  },
  {
   "cell_type": "code",
   "execution_count": 54,
   "id": "maritime-given",
   "metadata": {},
   "outputs": [
    {
     "name": "stdout",
     "output_type": "stream",
     "text": [
      "Predictions saved to ../data/predictions/au-ron_week2_rfc.csv\n"
     ]
    },
    {
     "data": {
      "text/html": [
       "<div>\n",
       "<style scoped>\n",
       "    .dataframe tbody tr th:only-of-type {\n",
       "        vertical-align: middle;\n",
       "    }\n",
       "\n",
       "    .dataframe tbody tr th {\n",
       "        vertical-align: top;\n",
       "    }\n",
       "\n",
       "    .dataframe thead th {\n",
       "        text-align: right;\n",
       "    }\n",
       "</style>\n",
       "<table border=\"1\" class=\"dataframe\">\n",
       "  <thead>\n",
       "    <tr style=\"text-align: right;\">\n",
       "      <th></th>\n",
       "      <th>Id</th>\n",
       "      <th>TARGET_5Yrs</th>\n",
       "    </tr>\n",
       "  </thead>\n",
       "  <tbody>\n",
       "    <tr>\n",
       "      <th>0</th>\n",
       "      <td>0.0</td>\n",
       "      <td>0.757207</td>\n",
       "    </tr>\n",
       "    <tr>\n",
       "      <th>1</th>\n",
       "      <td>1.0</td>\n",
       "      <td>0.781869</td>\n",
       "    </tr>\n",
       "    <tr>\n",
       "      <th>2</th>\n",
       "      <td>2.0</td>\n",
       "      <td>0.896730</td>\n",
       "    </tr>\n",
       "    <tr>\n",
       "      <th>3</th>\n",
       "      <td>3.0</td>\n",
       "      <td>0.932866</td>\n",
       "    </tr>\n",
       "    <tr>\n",
       "      <th>4</th>\n",
       "      <td>4.0</td>\n",
       "      <td>0.812278</td>\n",
       "    </tr>\n",
       "    <tr>\n",
       "      <th>...</th>\n",
       "      <td>...</td>\n",
       "      <td>...</td>\n",
       "    </tr>\n",
       "    <tr>\n",
       "      <th>3794</th>\n",
       "      <td>3794.0</td>\n",
       "      <td>0.964644</td>\n",
       "    </tr>\n",
       "    <tr>\n",
       "      <th>3795</th>\n",
       "      <td>3795.0</td>\n",
       "      <td>0.806932</td>\n",
       "    </tr>\n",
       "    <tr>\n",
       "      <th>3796</th>\n",
       "      <td>3796.0</td>\n",
       "      <td>0.830439</td>\n",
       "    </tr>\n",
       "    <tr>\n",
       "      <th>3797</th>\n",
       "      <td>3797.0</td>\n",
       "      <td>0.945831</td>\n",
       "    </tr>\n",
       "    <tr>\n",
       "      <th>3798</th>\n",
       "      <td>3798.0</td>\n",
       "      <td>0.858869</td>\n",
       "    </tr>\n",
       "  </tbody>\n",
       "</table>\n",
       "<p>3799 rows × 2 columns</p>\n",
       "</div>"
      ],
      "text/plain": [
       "          Id  TARGET_5Yrs\n",
       "0        0.0     0.757207\n",
       "1        1.0     0.781869\n",
       "2        2.0     0.896730\n",
       "3        3.0     0.932866\n",
       "4        4.0     0.812278\n",
       "...      ...          ...\n",
       "3794  3794.0     0.964644\n",
       "3795  3795.0     0.806932\n",
       "3796  3796.0     0.830439\n",
       "3797  3797.0     0.945831\n",
       "3798  3798.0     0.858869\n",
       "\n",
       "[3799 rows x 2 columns]"
      ]
     },
     "execution_count": 54,
     "metadata": {},
     "output_type": "execute_result"
    }
   ],
   "source": [
    "from src.models.save_predictions import save_predictions\n",
    "\n",
    "test_data = pd.read_csv('../data/raw/test.csv')\n",
    "test_data = test_data.loc[:, 'GP':'TOV']\n",
    "\n",
    "test_data = build(test_data)\n",
    "test_data = scaler.transform(test_data)\n",
    "\n",
    "save_predictions('au-ron_week2_rfc.csv', rfc_optimised, test_data)\n",
    "\n",
    "pd.read_csv('../data/predictions/au-ron_week2_rfc.csv')"
   ]
  }
 ],
 "metadata": {
  "kernelspec": {
   "display_name": "Python 3",
   "language": "python",
   "name": "python3"
  },
  "language_info": {
   "codemirror_mode": {
    "name": "ipython",
    "version": 3
   },
   "file_extension": ".py",
   "mimetype": "text/x-python",
   "name": "python",
   "nbconvert_exporter": "python",
   "pygments_lexer": "ipython3",
   "version": "3.9.1"
  }
 },
 "nbformat": 4,
 "nbformat_minor": 5
}
