{
 "cells": [
  {
   "cell_type": "markdown",
   "id": "chronic-fashion",
   "metadata": {},
   "source": [
    "# Predict Trained Model on Actual Test Data "
   ]
  },
  {
   "cell_type": "code",
   "execution_count": 1,
   "id": "wrong-spanking",
   "metadata": {},
   "outputs": [],
   "source": [
    "import os\n",
    "import sys\n",
    "module_path = os.path.abspath(os.path.join('..'))\n",
    "if module_path not in sys.path:\n",
    "    sys.path.append(module_path)\n",
    "    \n",
    "import pandas as pd\n",
    "import numpy as np\n",
    "from sklearn.ensemble import RandomForestClassifier\n",
    "import joblib\n",
    "from sklearn.preprocessing import Normalizer\n",
    "%load_ext autoreload\n",
    "%autoreload 2"
   ]
  },
  {
   "cell_type": "markdown",
   "id": "bacterial-centre",
   "metadata": {},
   "source": [
    "Load the saved model"
   ]
  },
  {
   "cell_type": "code",
   "execution_count": 2,
   "id": "outdoor-philippines",
   "metadata": {},
   "outputs": [
    {
     "data": {
      "text/plain": [
       "RandomForestClassifier(class_weight={0: 0.84, 1: 0.17}, max_depth=6,\n",
       "                       max_features=2, min_samples_leaf=8, n_estimators=125,\n",
       "                       random_state=8)"
      ]
     },
     "execution_count": 2,
     "metadata": {},
     "output_type": "execute_result"
    }
   ],
   "source": [
    "rf_mod = joblib.load(\"../models/sp_model_final.joblib\")\n",
    "rf_mod"
   ]
  },
  {
   "cell_type": "markdown",
   "id": "enclosed-timeline",
   "metadata": {},
   "source": [
    "All good.\n",
    "\n",
    "Load the Test data from csv file"
   ]
  },
  {
   "cell_type": "code",
   "execution_count": 3,
   "id": "dominican-multimedia",
   "metadata": {},
   "outputs": [],
   "source": [
    "df=pd.read_csv('../data/raw/test.csv')"
   ]
  },
  {
   "cell_type": "markdown",
   "id": "accomplished-shakespeare",
   "metadata": {},
   "source": [
    "Performing basic investigation into the data "
   ]
  },
  {
   "cell_type": "code",
   "execution_count": 4,
   "id": "brilliant-grenada",
   "metadata": {},
   "outputs": [
    {
     "data": {
      "text/html": [
       "<div>\n",
       "<style scoped>\n",
       "    .dataframe tbody tr th:only-of-type {\n",
       "        vertical-align: middle;\n",
       "    }\n",
       "\n",
       "    .dataframe tbody tr th {\n",
       "        vertical-align: top;\n",
       "    }\n",
       "\n",
       "    .dataframe thead th {\n",
       "        text-align: right;\n",
       "    }\n",
       "</style>\n",
       "<table border=\"1\" class=\"dataframe\">\n",
       "  <thead>\n",
       "    <tr style=\"text-align: right;\">\n",
       "      <th></th>\n",
       "      <th>Id_old</th>\n",
       "      <th>Id</th>\n",
       "      <th>GP</th>\n",
       "      <th>MIN</th>\n",
       "      <th>PTS</th>\n",
       "      <th>FGM</th>\n",
       "      <th>FGA</th>\n",
       "      <th>FG%</th>\n",
       "      <th>3P Made</th>\n",
       "      <th>3PA</th>\n",
       "      <th>...</th>\n",
       "      <th>FTM</th>\n",
       "      <th>FTA</th>\n",
       "      <th>FT%</th>\n",
       "      <th>OREB</th>\n",
       "      <th>DREB</th>\n",
       "      <th>REB</th>\n",
       "      <th>AST</th>\n",
       "      <th>STL</th>\n",
       "      <th>BLK</th>\n",
       "      <th>TOV</th>\n",
       "    </tr>\n",
       "  </thead>\n",
       "  <tbody>\n",
       "    <tr>\n",
       "      <th>0</th>\n",
       "      <td>1</td>\n",
       "      <td>0</td>\n",
       "      <td>56</td>\n",
       "      <td>9.1</td>\n",
       "      <td>4.0</td>\n",
       "      <td>1.6</td>\n",
       "      <td>3.7</td>\n",
       "      <td>43.7</td>\n",
       "      <td>0.1</td>\n",
       "      <td>0.3</td>\n",
       "      <td>...</td>\n",
       "      <td>0.7</td>\n",
       "      <td>1.2</td>\n",
       "      <td>63.4</td>\n",
       "      <td>1.2</td>\n",
       "      <td>0.8</td>\n",
       "      <td>1.7</td>\n",
       "      <td>0.4</td>\n",
       "      <td>0.2</td>\n",
       "      <td>0.3</td>\n",
       "      <td>0.8</td>\n",
       "    </tr>\n",
       "    <tr>\n",
       "      <th>1</th>\n",
       "      <td>8194</td>\n",
       "      <td>1</td>\n",
       "      <td>43</td>\n",
       "      <td>19.3</td>\n",
       "      <td>10.1</td>\n",
       "      <td>3.7</td>\n",
       "      <td>8.1</td>\n",
       "      <td>46.0</td>\n",
       "      <td>0.6</td>\n",
       "      <td>1.7</td>\n",
       "      <td>...</td>\n",
       "      <td>1.8</td>\n",
       "      <td>2.5</td>\n",
       "      <td>75.3</td>\n",
       "      <td>0.5</td>\n",
       "      <td>0.9</td>\n",
       "      <td>1.5</td>\n",
       "      <td>3.5</td>\n",
       "      <td>0.6</td>\n",
       "      <td>0.0</td>\n",
       "      <td>1.8</td>\n",
       "    </tr>\n",
       "    <tr>\n",
       "      <th>2</th>\n",
       "      <td>3</td>\n",
       "      <td>2</td>\n",
       "      <td>82</td>\n",
       "      <td>33.9</td>\n",
       "      <td>11.3</td>\n",
       "      <td>4.9</td>\n",
       "      <td>10.6</td>\n",
       "      <td>45.6</td>\n",
       "      <td>0.5</td>\n",
       "      <td>1.9</td>\n",
       "      <td>...</td>\n",
       "      <td>1.8</td>\n",
       "      <td>2.7</td>\n",
       "      <td>71.2</td>\n",
       "      <td>1.3</td>\n",
       "      <td>3.3</td>\n",
       "      <td>4.5</td>\n",
       "      <td>2.5</td>\n",
       "      <td>1.3</td>\n",
       "      <td>0.3</td>\n",
       "      <td>2.0</td>\n",
       "    </tr>\n",
       "    <tr>\n",
       "      <th>3</th>\n",
       "      <td>8196</td>\n",
       "      <td>3</td>\n",
       "      <td>86</td>\n",
       "      <td>44.7</td>\n",
       "      <td>18.8</td>\n",
       "      <td>6.8</td>\n",
       "      <td>15.9</td>\n",
       "      <td>42.9</td>\n",
       "      <td>0.5</td>\n",
       "      <td>1.8</td>\n",
       "      <td>...</td>\n",
       "      <td>4.5</td>\n",
       "      <td>6.3</td>\n",
       "      <td>70.9</td>\n",
       "      <td>1.5</td>\n",
       "      <td>3.2</td>\n",
       "      <td>5.0</td>\n",
       "      <td>4.1</td>\n",
       "      <td>0.9</td>\n",
       "      <td>0.1</td>\n",
       "      <td>3.6</td>\n",
       "    </tr>\n",
       "    <tr>\n",
       "      <th>4</th>\n",
       "      <td>8197</td>\n",
       "      <td>4</td>\n",
       "      <td>58</td>\n",
       "      <td>12.3</td>\n",
       "      <td>4.7</td>\n",
       "      <td>1.6</td>\n",
       "      <td>4.0</td>\n",
       "      <td>40.0</td>\n",
       "      <td>0.5</td>\n",
       "      <td>1.7</td>\n",
       "      <td>...</td>\n",
       "      <td>1.1</td>\n",
       "      <td>1.3</td>\n",
       "      <td>76.9</td>\n",
       "      <td>0.2</td>\n",
       "      <td>0.6</td>\n",
       "      <td>0.9</td>\n",
       "      <td>1.5</td>\n",
       "      <td>0.5</td>\n",
       "      <td>-0.4</td>\n",
       "      <td>0.9</td>\n",
       "    </tr>\n",
       "  </tbody>\n",
       "</table>\n",
       "<p>5 rows × 21 columns</p>\n",
       "</div>"
      ],
      "text/plain": [
       "   Id_old  Id  GP   MIN   PTS  FGM   FGA   FG%  3P Made  3PA  ...  FTM  FTA  \\\n",
       "0       1   0  56   9.1   4.0  1.6   3.7  43.7      0.1  0.3  ...  0.7  1.2   \n",
       "1    8194   1  43  19.3  10.1  3.7   8.1  46.0      0.6  1.7  ...  1.8  2.5   \n",
       "2       3   2  82  33.9  11.3  4.9  10.6  45.6      0.5  1.9  ...  1.8  2.7   \n",
       "3    8196   3  86  44.7  18.8  6.8  15.9  42.9      0.5  1.8  ...  4.5  6.3   \n",
       "4    8197   4  58  12.3   4.7  1.6   4.0  40.0      0.5  1.7  ...  1.1  1.3   \n",
       "\n",
       "    FT%  OREB  DREB  REB  AST  STL  BLK  TOV  \n",
       "0  63.4   1.2   0.8  1.7  0.4  0.2  0.3  0.8  \n",
       "1  75.3   0.5   0.9  1.5  3.5  0.6  0.0  1.8  \n",
       "2  71.2   1.3   3.3  4.5  2.5  1.3  0.3  2.0  \n",
       "3  70.9   1.5   3.2  5.0  4.1  0.9  0.1  3.6  \n",
       "4  76.9   0.2   0.6  0.9  1.5  0.5 -0.4  0.9  \n",
       "\n",
       "[5 rows x 21 columns]"
      ]
     },
     "execution_count": 4,
     "metadata": {},
     "output_type": "execute_result"
    }
   ],
   "source": [
    "df.head(5)"
   ]
  },
  {
   "cell_type": "code",
   "execution_count": 5,
   "id": "changing-hazard",
   "metadata": {},
   "outputs": [
    {
     "data": {
      "text/plain": [
       "(3799, 21)"
      ]
     },
     "execution_count": 5,
     "metadata": {},
     "output_type": "execute_result"
    }
   ],
   "source": [
    "df.shape"
   ]
  },
  {
   "cell_type": "code",
   "execution_count": 6,
   "id": "historic-cooperative",
   "metadata": {},
   "outputs": [
    {
     "name": "stdout",
     "output_type": "stream",
     "text": [
      "<class 'pandas.core.frame.DataFrame'>\n",
      "RangeIndex: 3799 entries, 0 to 3798\n",
      "Data columns (total 21 columns):\n",
      " #   Column   Non-Null Count  Dtype  \n",
      "---  ------   --------------  -----  \n",
      " 0   Id_old   3799 non-null   int64  \n",
      " 1   Id       3799 non-null   int64  \n",
      " 2   GP       3799 non-null   int64  \n",
      " 3   MIN      3799 non-null   float64\n",
      " 4   PTS      3799 non-null   float64\n",
      " 5   FGM      3799 non-null   float64\n",
      " 6   FGA      3799 non-null   float64\n",
      " 7   FG%      3799 non-null   float64\n",
      " 8   3P Made  3799 non-null   float64\n",
      " 9   3PA      3799 non-null   float64\n",
      " 10  3P%      3799 non-null   float64\n",
      " 11  FTM      3799 non-null   float64\n",
      " 12  FTA      3799 non-null   float64\n",
      " 13  FT%      3799 non-null   float64\n",
      " 14  OREB     3799 non-null   float64\n",
      " 15  DREB     3799 non-null   float64\n",
      " 16  REB      3799 non-null   float64\n",
      " 17  AST      3799 non-null   float64\n",
      " 18  STL      3799 non-null   float64\n",
      " 19  BLK      3799 non-null   float64\n",
      " 20  TOV      3799 non-null   float64\n",
      "dtypes: float64(18), int64(3)\n",
      "memory usage: 623.4 KB\n"
     ]
    }
   ],
   "source": [
    "df.info()"
   ]
  },
  {
   "cell_type": "code",
   "execution_count": 7,
   "id": "anonymous-tension",
   "metadata": {},
   "outputs": [
    {
     "data": {
      "text/html": [
       "<div>\n",
       "<style scoped>\n",
       "    .dataframe tbody tr th:only-of-type {\n",
       "        vertical-align: middle;\n",
       "    }\n",
       "\n",
       "    .dataframe tbody tr th {\n",
       "        vertical-align: top;\n",
       "    }\n",
       "\n",
       "    .dataframe thead th {\n",
       "        text-align: right;\n",
       "    }\n",
       "</style>\n",
       "<table border=\"1\" class=\"dataframe\">\n",
       "  <thead>\n",
       "    <tr style=\"text-align: right;\">\n",
       "      <th></th>\n",
       "      <th>Id_old</th>\n",
       "      <th>Id</th>\n",
       "      <th>GP</th>\n",
       "      <th>MIN</th>\n",
       "      <th>PTS</th>\n",
       "      <th>FGM</th>\n",
       "      <th>FGA</th>\n",
       "      <th>FG%</th>\n",
       "      <th>3P Made</th>\n",
       "      <th>3PA</th>\n",
       "      <th>...</th>\n",
       "      <th>FTM</th>\n",
       "      <th>FTA</th>\n",
       "      <th>FT%</th>\n",
       "      <th>OREB</th>\n",
       "      <th>DREB</th>\n",
       "      <th>REB</th>\n",
       "      <th>AST</th>\n",
       "      <th>STL</th>\n",
       "      <th>BLK</th>\n",
       "      <th>TOV</th>\n",
       "    </tr>\n",
       "  </thead>\n",
       "  <tbody>\n",
       "    <tr>\n",
       "      <th>count</th>\n",
       "      <td>3799.000000</td>\n",
       "      <td>3799.000000</td>\n",
       "      <td>3799.000000</td>\n",
       "      <td>3799.000000</td>\n",
       "      <td>3799.000000</td>\n",
       "      <td>3799.000000</td>\n",
       "      <td>3799.000000</td>\n",
       "      <td>3799.000000</td>\n",
       "      <td>3799.000000</td>\n",
       "      <td>3799.000000</td>\n",
       "      <td>...</td>\n",
       "      <td>3799.000000</td>\n",
       "      <td>3799.000000</td>\n",
       "      <td>3799.000000</td>\n",
       "      <td>3799.000000</td>\n",
       "      <td>3799.000000</td>\n",
       "      <td>3799.000000</td>\n",
       "      <td>3799.000000</td>\n",
       "      <td>3799.000000</td>\n",
       "      <td>3799.000000</td>\n",
       "      <td>3799.000000</td>\n",
       "    </tr>\n",
       "    <tr>\n",
       "      <th>mean</th>\n",
       "      <td>7010.614109</td>\n",
       "      <td>1899.000000</td>\n",
       "      <td>62.853909</td>\n",
       "      <td>18.650224</td>\n",
       "      <td>7.328034</td>\n",
       "      <td>2.835404</td>\n",
       "      <td>6.302580</td>\n",
       "      <td>44.599079</td>\n",
       "      <td>0.255962</td>\n",
       "      <td>0.796920</td>\n",
       "      <td>...</td>\n",
       "      <td>1.399842</td>\n",
       "      <td>1.953567</td>\n",
       "      <td>71.612924</td>\n",
       "      <td>1.096025</td>\n",
       "      <td>2.179495</td>\n",
       "      <td>3.275783</td>\n",
       "      <td>1.636483</td>\n",
       "      <td>0.653593</td>\n",
       "      <td>0.257726</td>\n",
       "      <td>1.257910</td>\n",
       "    </tr>\n",
       "    <tr>\n",
       "      <th>std</th>\n",
       "      <td>3954.173641</td>\n",
       "      <td>1096.821164</td>\n",
       "      <td>17.151740</td>\n",
       "      <td>8.727259</td>\n",
       "      <td>4.294724</td>\n",
       "      <td>1.688427</td>\n",
       "      <td>3.579221</td>\n",
       "      <td>6.040168</td>\n",
       "      <td>0.380987</td>\n",
       "      <td>1.052862</td>\n",
       "      <td>...</td>\n",
       "      <td>0.926140</td>\n",
       "      <td>1.250376</td>\n",
       "      <td>10.457336</td>\n",
       "      <td>0.785678</td>\n",
       "      <td>1.371935</td>\n",
       "      <td>2.070646</td>\n",
       "      <td>1.335496</td>\n",
       "      <td>0.410573</td>\n",
       "      <td>0.639660</td>\n",
       "      <td>0.712449</td>\n",
       "    </tr>\n",
       "    <tr>\n",
       "      <th>min</th>\n",
       "      <td>1.000000</td>\n",
       "      <td>0.000000</td>\n",
       "      <td>6.000000</td>\n",
       "      <td>3.700000</td>\n",
       "      <td>0.700000</td>\n",
       "      <td>0.300000</td>\n",
       "      <td>0.800000</td>\n",
       "      <td>25.100000</td>\n",
       "      <td>-1.000000</td>\n",
       "      <td>-2.700000</td>\n",
       "      <td>...</td>\n",
       "      <td>0.000000</td>\n",
       "      <td>0.000000</td>\n",
       "      <td>23.700000</td>\n",
       "      <td>0.000000</td>\n",
       "      <td>0.200000</td>\n",
       "      <td>0.300000</td>\n",
       "      <td>0.000000</td>\n",
       "      <td>0.000000</td>\n",
       "      <td>-7.100000</td>\n",
       "      <td>0.100000</td>\n",
       "    </tr>\n",
       "    <tr>\n",
       "      <th>25%</th>\n",
       "      <td>3644.000000</td>\n",
       "      <td>949.500000</td>\n",
       "      <td>51.000000</td>\n",
       "      <td>12.200000</td>\n",
       "      <td>4.200000</td>\n",
       "      <td>1.600000</td>\n",
       "      <td>3.700000</td>\n",
       "      <td>40.500000</td>\n",
       "      <td>0.000000</td>\n",
       "      <td>0.100000</td>\n",
       "      <td>...</td>\n",
       "      <td>0.700000</td>\n",
       "      <td>1.000000</td>\n",
       "      <td>65.000000</td>\n",
       "      <td>0.500000</td>\n",
       "      <td>1.200000</td>\n",
       "      <td>1.800000</td>\n",
       "      <td>0.600000</td>\n",
       "      <td>0.400000</td>\n",
       "      <td>0.100000</td>\n",
       "      <td>0.700000</td>\n",
       "    </tr>\n",
       "    <tr>\n",
       "      <th>50%</th>\n",
       "      <td>7062.000000</td>\n",
       "      <td>1899.000000</td>\n",
       "      <td>63.000000</td>\n",
       "      <td>17.000000</td>\n",
       "      <td>6.400000</td>\n",
       "      <td>2.500000</td>\n",
       "      <td>5.500000</td>\n",
       "      <td>44.600000</td>\n",
       "      <td>0.300000</td>\n",
       "      <td>0.800000</td>\n",
       "      <td>...</td>\n",
       "      <td>1.200000</td>\n",
       "      <td>1.700000</td>\n",
       "      <td>71.500000</td>\n",
       "      <td>0.900000</td>\n",
       "      <td>1.900000</td>\n",
       "      <td>2.800000</td>\n",
       "      <td>1.300000</td>\n",
       "      <td>0.600000</td>\n",
       "      <td>0.200000</td>\n",
       "      <td>1.100000</td>\n",
       "    </tr>\n",
       "    <tr>\n",
       "      <th>75%</th>\n",
       "      <td>10402.500000</td>\n",
       "      <td>2848.500000</td>\n",
       "      <td>74.000000</td>\n",
       "      <td>23.300000</td>\n",
       "      <td>9.400000</td>\n",
       "      <td>3.700000</td>\n",
       "      <td>8.100000</td>\n",
       "      <td>48.500000</td>\n",
       "      <td>0.500000</td>\n",
       "      <td>1.500000</td>\n",
       "      <td>...</td>\n",
       "      <td>1.900000</td>\n",
       "      <td>2.600000</td>\n",
       "      <td>78.000000</td>\n",
       "      <td>1.500000</td>\n",
       "      <td>2.900000</td>\n",
       "      <td>4.300000</td>\n",
       "      <td>2.300000</td>\n",
       "      <td>0.900000</td>\n",
       "      <td>0.400000</td>\n",
       "      <td>1.600000</td>\n",
       "    </tr>\n",
       "    <tr>\n",
       "      <th>max</th>\n",
       "      <td>13792.000000</td>\n",
       "      <td>3798.000000</td>\n",
       "      <td>126.000000</td>\n",
       "      <td>68.000000</td>\n",
       "      <td>33.000000</td>\n",
       "      <td>13.400000</td>\n",
       "      <td>26.200000</td>\n",
       "      <td>74.600000</td>\n",
       "      <td>1.600000</td>\n",
       "      <td>4.300000</td>\n",
       "      <td>...</td>\n",
       "      <td>7.800000</td>\n",
       "      <td>9.800000</td>\n",
       "      <td>127.100000</td>\n",
       "      <td>6.900000</td>\n",
       "      <td>12.000000</td>\n",
       "      <td>18.500000</td>\n",
       "      <td>9.000000</td>\n",
       "      <td>2.700000</td>\n",
       "      <td>14.800000</td>\n",
       "      <td>5.200000</td>\n",
       "    </tr>\n",
       "  </tbody>\n",
       "</table>\n",
       "<p>8 rows × 21 columns</p>\n",
       "</div>"
      ],
      "text/plain": [
       "             Id_old           Id           GP          MIN          PTS  \\\n",
       "count   3799.000000  3799.000000  3799.000000  3799.000000  3799.000000   \n",
       "mean    7010.614109  1899.000000    62.853909    18.650224     7.328034   \n",
       "std     3954.173641  1096.821164    17.151740     8.727259     4.294724   \n",
       "min        1.000000     0.000000     6.000000     3.700000     0.700000   \n",
       "25%     3644.000000   949.500000    51.000000    12.200000     4.200000   \n",
       "50%     7062.000000  1899.000000    63.000000    17.000000     6.400000   \n",
       "75%    10402.500000  2848.500000    74.000000    23.300000     9.400000   \n",
       "max    13792.000000  3798.000000   126.000000    68.000000    33.000000   \n",
       "\n",
       "               FGM          FGA          FG%      3P Made          3PA  ...  \\\n",
       "count  3799.000000  3799.000000  3799.000000  3799.000000  3799.000000  ...   \n",
       "mean      2.835404     6.302580    44.599079     0.255962     0.796920  ...   \n",
       "std       1.688427     3.579221     6.040168     0.380987     1.052862  ...   \n",
       "min       0.300000     0.800000    25.100000    -1.000000    -2.700000  ...   \n",
       "25%       1.600000     3.700000    40.500000     0.000000     0.100000  ...   \n",
       "50%       2.500000     5.500000    44.600000     0.300000     0.800000  ...   \n",
       "75%       3.700000     8.100000    48.500000     0.500000     1.500000  ...   \n",
       "max      13.400000    26.200000    74.600000     1.600000     4.300000  ...   \n",
       "\n",
       "               FTM          FTA          FT%         OREB         DREB  \\\n",
       "count  3799.000000  3799.000000  3799.000000  3799.000000  3799.000000   \n",
       "mean      1.399842     1.953567    71.612924     1.096025     2.179495   \n",
       "std       0.926140     1.250376    10.457336     0.785678     1.371935   \n",
       "min       0.000000     0.000000    23.700000     0.000000     0.200000   \n",
       "25%       0.700000     1.000000    65.000000     0.500000     1.200000   \n",
       "50%       1.200000     1.700000    71.500000     0.900000     1.900000   \n",
       "75%       1.900000     2.600000    78.000000     1.500000     2.900000   \n",
       "max       7.800000     9.800000   127.100000     6.900000    12.000000   \n",
       "\n",
       "               REB          AST          STL          BLK          TOV  \n",
       "count  3799.000000  3799.000000  3799.000000  3799.000000  3799.000000  \n",
       "mean      3.275783     1.636483     0.653593     0.257726     1.257910  \n",
       "std       2.070646     1.335496     0.410573     0.639660     0.712449  \n",
       "min       0.300000     0.000000     0.000000    -7.100000     0.100000  \n",
       "25%       1.800000     0.600000     0.400000     0.100000     0.700000  \n",
       "50%       2.800000     1.300000     0.600000     0.200000     1.100000  \n",
       "75%       4.300000     2.300000     0.900000     0.400000     1.600000  \n",
       "max      18.500000     9.000000     2.700000    14.800000     5.200000  \n",
       "\n",
       "[8 rows x 21 columns]"
      ]
     },
     "execution_count": 7,
     "metadata": {},
     "output_type": "execute_result"
    }
   ],
   "source": [
    "df.describe()"
   ]
  },
  {
   "cell_type": "markdown",
   "id": "oriental-seminar",
   "metadata": {},
   "source": [
    "Dropping feature columns not used in model traning"
   ]
  },
  {
   "cell_type": "code",
   "execution_count": 8,
   "id": "normal-trailer",
   "metadata": {},
   "outputs": [],
   "source": [
    "df_cleaned = df.drop(['Id_old','Id', '3P Made', '3PA','3P%', 'BLK'], axis=1)"
   ]
  },
  {
   "cell_type": "code",
   "execution_count": 9,
   "id": "brutal-mitchell",
   "metadata": {},
   "outputs": [
    {
     "data": {
      "text/plain": [
       "(3799, 15)"
      ]
     },
     "execution_count": 9,
     "metadata": {},
     "output_type": "execute_result"
    }
   ],
   "source": [
    "df_cleaned.shape"
   ]
  },
  {
   "cell_type": "code",
   "execution_count": 11,
   "id": "seventh-denmark",
   "metadata": {},
   "outputs": [],
   "source": [
    "x=df_cleaned.copy()"
   ]
  },
  {
   "cell_type": "markdown",
   "id": "driven-walnut",
   "metadata": {},
   "source": [
    "Applying the same Feature Scaling "
   ]
  },
  {
   "cell_type": "code",
   "execution_count": 12,
   "id": "fluid-salem",
   "metadata": {},
   "outputs": [
    {
     "data": {
      "text/plain": [
       "array([[0.58421991, 0.09493574, 0.04172999, ..., 0.004173  , 0.0020865 ,\n",
       "        0.008346  ],\n",
       "       [0.42539784, 0.19093438, 0.09991903, ..., 0.03462541, 0.00593578,\n",
       "        0.01780735],\n",
       "       [0.66203627, 0.27369548, 0.09123183, ..., 0.02018403, 0.0104957 ,\n",
       "        0.01614723],\n",
       "       ...,\n",
       "       [0.56298842, 0.10516199, 0.02230709, ..., 0.00424897, 0.00424897,\n",
       "        0.00531121],\n",
       "       [0.63169009, 0.27183967, 0.1029158 , ..., 0.02626127, 0.00922693,\n",
       "        0.01703434],\n",
       "       [0.52746299, 0.11508283, 0.02877071, ..., 0.00575414, 0.00287707,\n",
       "        0.01150828]])"
      ]
     },
     "execution_count": 12,
     "metadata": {},
     "output_type": "execute_result"
    }
   ],
   "source": [
    "x = Normalizer().fit_transform(x) \n",
    "x"
   ]
  },
  {
   "cell_type": "markdown",
   "id": "compound-jason",
   "metadata": {},
   "source": [
    "#### Predict Result and Export to CSV for uploading to Kaggle"
   ]
  },
  {
   "cell_type": "code",
   "execution_count": 14,
   "id": "adjacent-russia",
   "metadata": {},
   "outputs": [],
   "source": [
    "y_pred=rf_mod.predict(x)\n",
    "y_pred_proba=rf_mod.predict_proba(x)"
   ]
  },
  {
   "cell_type": "code",
   "execution_count": 15,
   "id": "assigned-fence",
   "metadata": {},
   "outputs": [
    {
     "data": {
      "text/plain": [
       "(array([0, 1], dtype=int64), array([1179, 2620], dtype=int64))"
      ]
     },
     "execution_count": 15,
     "metadata": {},
     "output_type": "execute_result"
    }
   ],
   "source": [
    "np.unique(y_pred,return_counts=True)"
   ]
  },
  {
   "cell_type": "code",
   "execution_count": 16,
   "id": "difficult-seattle",
   "metadata": {},
   "outputs": [
    {
     "data": {
      "text/plain": [
       "array([[0.46268963, 0.53731037],\n",
       "       [0.61192428, 0.38807572],\n",
       "       [0.20632945, 0.79367055],\n",
       "       ...,\n",
       "       [0.55070382, 0.44929618],\n",
       "       [0.36325161, 0.63674839],\n",
       "       [0.5511656 , 0.4488344 ]])"
      ]
     },
     "execution_count": 16,
     "metadata": {},
     "output_type": "execute_result"
    }
   ],
   "source": [
    "y_pred_proba"
   ]
  },
  {
   "cell_type": "code",
   "execution_count": 20,
   "id": "mobile-arthritis",
   "metadata": {},
   "outputs": [
    {
     "data": {
      "text/plain": [
       "array([0, 1], dtype=int64)"
      ]
     },
     "execution_count": 20,
     "metadata": {},
     "output_type": "execute_result"
    }
   ],
   "source": [
    "rf_mod.classes_"
   ]
  },
  {
   "cell_type": "code",
   "execution_count": 21,
   "id": "naughty-discretion",
   "metadata": {},
   "outputs": [],
   "source": [
    "df['TARGET_5Yrs'] = y_pred_proba[:,1]"
   ]
  },
  {
   "cell_type": "code",
   "execution_count": 22,
   "id": "competent-metadata",
   "metadata": {},
   "outputs": [],
   "source": [
    "df.to_csv('../data/processed/TestResult_RF_Final.csv',index=False,columns=['Id', 'TARGET_5Yrs'])"
   ]
  }
 ],
 "metadata": {
  "kernelspec": {
   "display_name": "Python 3",
   "language": "python",
   "name": "python3"
  },
  "language_info": {
   "codemirror_mode": {
    "name": "ipython",
    "version": 3
   },
   "file_extension": ".py",
   "mimetype": "text/x-python",
   "name": "python",
   "nbconvert_exporter": "python",
   "pygments_lexer": "ipython3",
   "version": "3.9.1"
  }
 },
 "nbformat": 4,
 "nbformat_minor": 5
}
