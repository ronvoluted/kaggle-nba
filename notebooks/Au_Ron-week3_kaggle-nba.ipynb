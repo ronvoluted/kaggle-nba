{
 "cells": [
  {
   "cell_type": "markdown",
   "id": "generic-violin",
   "metadata": {},
   "source": [
    "# Kaggle NBA Week 3 - Ron Au"
   ]
  },
  {
   "cell_type": "markdown",
   "id": "lasting-treaty",
   "metadata": {},
   "source": [
    "#### Options:"
   ]
  },
  {
   "cell_type": "code",
   "execution_count": 517,
   "id": "severe-incidence",
   "metadata": {},
   "outputs": [
    {
     "name": "stdout",
     "output_type": "stream",
     "text": [
      "The autoreload extension is already loaded. To reload it, use:\n",
      "  %reload_ext autoreload\n"
     ]
    }
   ],
   "source": [
    "# Activate cell to enable module imports if not running notebook within Docker\n",
    "# Enter command mode by pressing Esc key, then press Y key to re-enable this cell\n",
    "# To disable this cell, enter command mode and press R key\n",
    "\n",
    "import os\n",
    "import sys\n",
    "\n",
    "module_path = os.path.abspath(os.path.join('..'))\n",
    "if module_path not in sys.path:\n",
    "    sys.path.append(module_path)\n",
    "\n",
    "%load_ext autoreload\n",
    "%autoreload 2"
   ]
  },
  {
   "cell_type": "code",
   "execution_count": 518,
   "id": "uniform-gospel",
   "metadata": {},
   "outputs": [],
   "source": [
    "# Suppress warnings\n",
    "import warnings\n",
    "warnings.filterwarnings('ignore')"
   ]
  },
  {
   "cell_type": "markdown",
   "id": "polished-right",
   "metadata": {},
   "source": [
    "## Set MLflow experiment and run"
   ]
  },
  {
   "cell_type": "code",
   "execution_count": 519,
   "id": "streaming-adams",
   "metadata": {},
   "outputs": [],
   "source": [
    "from mlflow import set_tracking_uri, set_experiment, start_run, end_run, log_metric, log_params, log_artifacts\n",
    "\n",
    "# Clean up any leftover runs\n",
    "end_run()\n",
    "\n",
    "set_tracking_uri('http://localhost:5000')\n",
    "set_experiment(experiment_name='kaggle-nba')"
   ]
  },
  {
   "cell_type": "markdown",
   "id": "seasonal-brother",
   "metadata": {},
   "source": [
    "## Read data, set features and set target"
   ]
  },
  {
   "cell_type": "code",
   "execution_count": 520,
   "id": "reserved-export",
   "metadata": {},
   "outputs": [],
   "source": [
    "import pandas as pd\n",
    "\n",
    "df = pd.read_csv('../data/raw/train.csv')\n",
    "dfc = df.copy()\n",
    "\n",
    "target = dfc.loc[:, 'TARGET_5Yrs':]\n",
    "dfc = dfc.loc[:, 'GP':'TOV']"
   ]
  },
  {
   "cell_type": "markdown",
   "id": "through-orlando",
   "metadata": {},
   "source": [
    "## Data preparation and feature engineering"
   ]
  },
  {
   "cell_type": "code",
   "execution_count": 521,
   "id": "romantic-blair",
   "metadata": {},
   "outputs": [],
   "source": [
    "from src.features.data_features import engineer\n",
    "\n",
    "start_run(run_name='Final Run')\n",
    "\n",
    "features = {\n",
    "    'new_neg': False, # Impute negative values\n",
    "    'new_upsample': False, # Upsample with smote\n",
    "    'new_downsample': True, # Downsample randomly\n",
    "    'new_pct': False, # Replace % column data with own recalculations\n",
    "    'add_POS': False, # Add Possessions\n",
    "    'add_PPP': False, # Add Points per Possessions\n",
    "    'add_3PP': False, # Add 3-pointers per 100 Possessions\n",
    "    'add_FGP': False, # Add Field Goals per 100 Possessions\n",
    "    'add_FTG': False, # Add Free Throws per Games\n",
    "    'add_3PR': False, # Add 3-Pointer % > 75% of mean\n",
    "    'add_FGR': False, # Add Field Goal % > 75% of mean\n",
    "    'add_FTR': False, # Add Free Throw % > 75% of mean\n",
    "    'add_RONM': False, # Add RON per 100 Minutes\n",
    "    'add_RONP': False, # Add RON per Possessions\n",
    "    'rem_PTS': False, # Remove Points per Game\n",
    "    'rem_pct': False # Remove 3P%, FP% and FT%\n",
    "}\n",
    "\n",
    "# Log which features were engineered to MLflow\n",
    "log_params(features)\n",
    "\n",
    "dfc, target = engineer(dfc, target, features)"
   ]
  },
  {
   "cell_type": "markdown",
   "id": "fourth-graphics",
   "metadata": {},
   "source": [
    "## Standardise data set"
   ]
  },
  {
   "cell_type": "code",
   "execution_count": 522,
   "id": "finnish-anatomy",
   "metadata": {},
   "outputs": [],
   "source": [
    "from sklearn.preprocessing import StandardScaler\n",
    "\n",
    "scaler = StandardScaler()\n",
    "dfc = scaler.fit_transform(dfc)"
   ]
  },
  {
   "cell_type": "markdown",
   "id": "collect-foundation",
   "metadata": {},
   "source": [
    "## Split training, test and validation sets"
   ]
  },
  {
   "cell_type": "code",
   "execution_count": 523,
   "id": "controversial-salvation",
   "metadata": {},
   "outputs": [],
   "source": [
    "from sklearn.model_selection import train_test_split\n",
    "\n",
    "X_train, X_test, y_train, y_test = train_test_split(dfc, target, test_size=0.2, random_state=5)\n",
    "#X_train, X_valid, y_train, y_valid = train_test_split(X_train, y_train, test_size=0.2, random_state=10)"
   ]
  },
  {
   "cell_type": "markdown",
   "id": "light-ethernet",
   "metadata": {},
   "source": [
    "## Train logistic regression model"
   ]
  },
  {
   "cell_type": "code",
   "execution_count": 524,
   "id": "requested-thunder",
   "metadata": {},
   "outputs": [
    {
     "data": {
      "text/plain": [
       "LogisticRegression(n_jobs=-1)"
      ]
     },
     "execution_count": 524,
     "metadata": {},
     "output_type": "execute_result"
    }
   ],
   "source": [
    "from sklearn.linear_model import LogisticRegression\n",
    "\n",
    "log_reg = LogisticRegression(n_jobs=-1)\n",
    "log_reg.fit(X_train, y_train)"
   ]
  },
  {
   "cell_type": "markdown",
   "id": "likely-maryland",
   "metadata": {},
   "source": [
    "## Baseline results"
   ]
  },
  {
   "cell_type": "raw",
   "id": "laughing-mileage",
   "metadata": {},
   "source": [
    "import numpy as np\n",
    "from sklearn.metrics import accuracy_score, mean_squared_error as mse, mean_absolute_error as mae\n",
    "from src.models.eval_ratio_accuracy import ratioAccuracy\n",
    "\n",
    "y_mean = y_train.mean()\n",
    "y_base = np.full((len(y_train), 1), y_mean)\n",
    "\n",
    "print('RMSE based on mean:', mse(y_train, y_base, squared=False))\n",
    "print('MAE based on mean:', mae(y_train, y_base))\n",
    "print('Accuracy based on ratio:', ratioAccuracy(y_train))"
   ]
  },
  {
   "cell_type": "markdown",
   "id": "scheduled-apartment",
   "metadata": {},
   "source": [
    "## Model results"
   ]
  },
  {
   "cell_type": "code",
   "execution_count": 525,
   "id": "fundamental-waterproof",
   "metadata": {},
   "outputs": [
    {
     "data": {
      "text/html": [
       "<div style=\"padding: 1rem; background: #2E3440; font-family: Ubuntu, 'Helvetica Neue', 'Segoe UI';\"><div style=\"max-width: 100%; height: 2rem; display: flex;\"><span style=\"min-width: 5rem; margin-top: 0.5rem; margin-right: 1rem;\"></span><div style=\"width: 100%; height: 2rem; display: flex; justify-content: space-evenly; padding: 0.25rem; text-align: center; font-weight: 700\"><span style=\"width: 6rem; margin-top: 0.25em; color: #EBCB8B\">AUROC</span><span style=\"width: 6rem; margin-top: 0.25em; color: #A3BE8C;\">Accuracy</span><span style=\"width: 6rem; margin-top: 0.25em; color: #BF616A\">F1</span><span style=\"width: 6rem; margin-top: 0.25em; color: #B48EAD\">Recall</span><span style=\"width: 6rem; margin-top: 0.25em; color: #B48EAD\">Precision</span><span style=\"width: 6rem; margin-top: 0.25em; color: #D08770\">R2</span></div></div><div style=\"max-width: 100%; height: 2rem; display: flex; margin-top: 0.5rem;\"><div style=\"min-width: 5rem; margin-top: 0.5rem; margin-right: 1rem; font-weight: 700; color: ghostwhite;\">Validation</div><div style=\"width: 100%; height: 2rem; display: flex; justify-content: space-evenly; padding: 0.25rem; border-radius: 4px; box-shadow: 0 4px 6px 2px black; text-align: center; background: #3B4252\"><span style=\"width: 6rem; margin-top: 0.25em; color: #EBCB8B\">0.67155556</span><span style=\"width: 6rem; margin-top: 0.25em; color: #A3BE8C\">0.68085106</span><span style=\"width: 6rem; margin-top: 0.25em; color: #BF616A\">0.78802993</span><span style=\"width: 6rem; margin-top: 0.25em; color: #B48EAD\">0.86338798</span><span style=\"width: 6rem; margin-top: 0.25em; color: #B48EAD\">0.72477064</span><span style=\"width: 6rem; margin-top: 0.25em; color: #D08770\">0.68085106</span></div></div><div style=\"max-width: 100%; height: 2rem; display: flex; margin-top: 1.5rem; margin-bottom: 1rem;\"><div style=\"min-width: 5rem; margin-top: 0.5rem; margin-right: 1rem; font-weight: 700; color: ghostwhite;\">Training</div><div style=\"width: 100%; height: 2rem; display: flex; justify-content: space-evenly; padding: 0.25rem; border-radius: 4px; box-shadow: 0 4px 6px 2px black; text-align: center; background: #3B4252\"><span style=\"width: 6rem; margin-top: 0.25em; color: #EBCB8B\">0.71305162</span><span style=\"width: 6rem; margin-top: 0.25em; color: #A3BE8C\">0.70006262</span><span style=\"width: 6rem; margin-top: 0.25em; color: #BF616A\">0.79694786</span><span style=\"width: 6rem; margin-top: 0.25em; color: #B48EAD\">0.88973024</span><span style=\"width: 6rem; margin-top: 0.25em; color: #B48EAD\">0.72168906</span><span style=\"width: 6rem; margin-top: 0.25em; color: #D08770\">0.70006262</span></div></div></div>"
      ],
      "text/plain": [
       "<IPython.core.display.HTML object>"
      ]
     },
     "metadata": {},
     "output_type": "display_data"
    },
    {
     "data": {
      "image/png": "[encoded data removed]",
      "text/plain": [
       "<Figure size 432x288 with 2 Axes>"
      ]
     },
     "metadata": {
      "needs_background": "light"
     },
     "output_type": "display_data"
    },
    {
     "name": "stdout",
     "output_type": "stream",
     "text": [
      "LogisticRegression(n_jobs=-1)\n"
     ]
    }
   ],
   "source": [
    "from src.models.eval_model import eval_model\n",
    "\n",
    "model, roc_score_training, roc_score_val, acc_train, acc_val = eval_model(log_reg, X_train, y_train, X_test, y_test)"
   ]
  },
  {
   "cell_type": "code",
   "execution_count": 526,
   "id": "related-canyon",
   "metadata": {},
   "outputs": [],
   "source": [
    "# Log metrics to MLflow and end run\n",
    "log_metric('AUROC_Train', roc_score_training)\n",
    "log_metric('AUROC_Test', roc_score_val)\n",
    "log_metric('Acc_Train', acc_train)\n",
    "log_metric('Acc_Test', acc_val)\n",
    "end_run()"
   ]
  },
  {
   "cell_type": "markdown",
   "id": "capital-salad",
   "metadata": {},
   "source": [
    "## Save results to CSV"
   ]
  },
  {
   "cell_type": "code",
   "execution_count": 527,
   "id": "surgical-owner",
   "metadata": {},
   "outputs": [
    {
     "name": "stdout",
     "output_type": "stream",
     "text": [
      "Predictions saved to ../data/predictions/au-ron_week3_log-reg.csv\n"
     ]
    },
    {
     "data": {
      "text/html": [
       "<div>\n",
       "<style scoped>\n",
       "    .dataframe tbody tr th:only-of-type {\n",
       "        vertical-align: middle;\n",
       "    }\n",
       "\n",
       "    .dataframe tbody tr th {\n",
       "        vertical-align: top;\n",
       "    }\n",
       "\n",
       "    .dataframe thead th {\n",
       "        text-align: right;\n",
       "    }\n",
       "</style>\n",
       "<table border=\"1\" class=\"dataframe\">\n",
       "  <thead>\n",
       "    <tr style=\"text-align: right;\">\n",
       "      <th></th>\n",
       "      <th>Id</th>\n",
       "      <th>TARGET_5Yrs</th>\n",
       "    </tr>\n",
       "  </thead>\n",
       "  <tbody>\n",
       "    <tr>\n",
       "      <th>0</th>\n",
       "      <td>0.0</td>\n",
       "      <td>0.655445</td>\n",
       "    </tr>\n",
       "    <tr>\n",
       "      <th>1</th>\n",
       "      <td>1.0</td>\n",
       "      <td>0.661111</td>\n",
       "    </tr>\n",
       "    <tr>\n",
       "      <th>2</th>\n",
       "      <td>2.0</td>\n",
       "      <td>0.822238</td>\n",
       "    </tr>\n",
       "    <tr>\n",
       "      <th>3</th>\n",
       "      <td>3.0</td>\n",
       "      <td>0.889530</td>\n",
       "    </tr>\n",
       "    <tr>\n",
       "      <th>4</th>\n",
       "      <td>4.0</td>\n",
       "      <td>0.542578</td>\n",
       "    </tr>\n",
       "    <tr>\n",
       "      <th>...</th>\n",
       "      <td>...</td>\n",
       "      <td>...</td>\n",
       "    </tr>\n",
       "    <tr>\n",
       "      <th>3794</th>\n",
       "      <td>3794.0</td>\n",
       "      <td>0.875596</td>\n",
       "    </tr>\n",
       "    <tr>\n",
       "      <th>3795</th>\n",
       "      <td>3795.0</td>\n",
       "      <td>0.650039</td>\n",
       "    </tr>\n",
       "    <tr>\n",
       "      <th>3796</th>\n",
       "      <td>3796.0</td>\n",
       "      <td>0.498853</td>\n",
       "    </tr>\n",
       "    <tr>\n",
       "      <th>3797</th>\n",
       "      <td>3797.0</td>\n",
       "      <td>0.892139</td>\n",
       "    </tr>\n",
       "    <tr>\n",
       "      <th>3798</th>\n",
       "      <td>3798.0</td>\n",
       "      <td>0.519759</td>\n",
       "    </tr>\n",
       "  </tbody>\n",
       "</table>\n",
       "<p>3799 rows × 2 columns</p>\n",
       "</div>"
      ],
      "text/plain": [
       "          Id  TARGET_5Yrs\n",
       "0        0.0     0.655445\n",
       "1        1.0     0.661111\n",
       "2        2.0     0.822238\n",
       "3        3.0     0.889530\n",
       "4        4.0     0.542578\n",
       "...      ...          ...\n",
       "3794  3794.0     0.875596\n",
       "3795  3795.0     0.650039\n",
       "3796  3796.0     0.498853\n",
       "3797  3797.0     0.892139\n",
       "3798  3798.0     0.519759\n",
       "\n",
       "[3799 rows x 2 columns]"
      ]
     },
     "execution_count": 527,
     "metadata": {},
     "output_type": "execute_result"
    }
   ],
   "source": [
    "from src.models.save_predictions import save_predictions\n",
    "\n",
    "test_data = pd.read_csv('../data/raw/test.csv')\n",
    "test_data = test_data.loc[:, 'GP':'TOV']\n",
    "test_data, _ = engineer(test_data, None, features, predicting=True)\n",
    "test_data = scaler.transform(test_data)\n",
    "\n",
    "filename = 'au-ron_week3_log-reg'\n",
    "save_predictions(f'{filename}.csv', log_reg, test_data)\n",
    "pd.read_csv(f'../data/predictions/{filename}.csv')"
   ]
  }
 ],
 "metadata": {
  "kernelspec": {
   "display_name": "Python 3",
   "language": "python",
   "name": "python3"
  },
  "language_info": {
   "codemirror_mode": {
    "name": "ipython",
    "version": 3
   },
   "file_extension": ".py",
   "mimetype": "text/x-python",
   "name": "python",
   "nbconvert_exporter": "python",
   "pygments_lexer": "ipython3",
   "version": "3.9.1"
  }
 },
 "nbformat": 4,
 "nbformat_minor": 5
}
