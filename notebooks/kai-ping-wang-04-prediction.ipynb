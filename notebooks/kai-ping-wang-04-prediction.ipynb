{
 "metadata": {
  "language_info": {
   "codemirror_mode": {
    "name": "ipython",
    "version": 3
   },
   "file_extension": ".py",
   "mimetype": "text/x-python",
   "name": "python",
   "nbconvert_exporter": "python",
   "pygments_lexer": "ipython3",
   "version": "3.9.1-final"
  },
  "orig_nbformat": 2,
  "kernelspec": {
   "name": "python3",
   "display_name": "Python 3",
   "language": "python"
  }
 },
 "nbformat": 4,
 "nbformat_minor": 2,
 "cells": [
  {
   "cell_type": "code",
   "execution_count": 1,
   "metadata": {},
   "outputs": [],
   "source": [
    "import joblib\n",
    "import numpy as np\n",
    "import pandas as pd"
   ]
  },
  {
   "cell_type": "code",
   "execution_count": 2,
   "metadata": {},
   "outputs": [
    {
     "output_type": "execute_result",
     "data": {
      "text/plain": [
       "LogisticRegression()"
      ]
     },
     "metadata": {},
     "execution_count": 2
    }
   ],
   "source": [
    "model = joblib.load(\"../models/kpw_best_model\")\n",
    "model"
   ]
  },
  {
   "cell_type": "code",
   "execution_count": 3,
   "metadata": {},
   "outputs": [
    {
     "output_type": "execute_result",
     "data": {
      "text/plain": [
       "array([[0.44166667, 0.09612403, 0.09580838, ..., 0.06896552, 0.01587302,\n",
       "        0.13461538],\n",
       "       [0.33333333, 0.25426357, 0.27844311, ..., 0.20689655, 0.        ,\n",
       "        0.32692308],\n",
       "       [0.65833333, 0.48062016, 0.31437126, ..., 0.44827586, 0.01587302,\n",
       "        0.36538462],\n",
       "       ...,\n",
       "       [0.41666667, 0.10852713, 0.03892216, ..., 0.13793103, 0.01058201,\n",
       "        0.07692308],\n",
       "       [0.71666667, 0.54883721, 0.41017964, ..., 0.44827586, 0.01587302,\n",
       "        0.44230769],\n",
       "       [0.43333333, 0.14108527, 0.06586826, ..., 0.10344828, 0.01058201,\n",
       "        0.21153846]])"
      ]
     },
     "metadata": {},
     "execution_count": 3
    }
   ],
   "source": [
    "X_test = joblib.load(\"../data/processed/X_test\")\n",
    "X_test"
   ]
  },
  {
   "cell_type": "code",
   "execution_count": 5,
   "metadata": {},
   "outputs": [],
   "source": [
    "X_test_id = joblib.load(\"../data/processed/X_test_id\")"
   ]
  },
  {
   "cell_type": "code",
   "execution_count": 7,
   "metadata": {},
   "outputs": [],
   "source": [
    "y_pred_test = model.predict_proba(X_test)[:,-1]\n",
    "y_pred_test.shape=[3799,1]\n",
    "np.savetxt(\"../data/processed/kpw-best-submission.csv\", y_pred_test, delimiter=\",\" , fmt='%4f', header=\"TARGET_5Yrs_Prob\")"
   ]
  },
  {
   "cell_type": "code",
   "execution_count": 9,
   "metadata": {},
   "outputs": [],
   "source": [
    "df_test = pd.read_csv(\"../data/raw/test.csv\")\n",
    "df_pred = pd.read_csv(\"../data/processed/kpw-best-submission.csv\")"
   ]
  },
  {
   "cell_type": "code",
   "execution_count": 10,
   "metadata": {},
   "outputs": [],
   "source": [
    "df_test_id = df_test.iloc[:,1:2]\n",
    "df_test_id['TARGET_5Yrs'] = df_pred\n",
    "df_test_id.to_csv('../data/processed/kpw-final-submission.csv',index=False)"
   ]
  }
 ]
}