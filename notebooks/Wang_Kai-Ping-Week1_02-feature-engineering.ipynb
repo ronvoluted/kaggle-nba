{
 "metadata": {
  "language_info": {
   "codemirror_mode": {
    "name": "ipython",
    "version": 3
   },
   "file_extension": ".py",
   "mimetype": "text/x-python",
   "name": "python",
   "nbconvert_exporter": "python",
   "pygments_lexer": "ipython3",
   "version": "3.9.1-final"
  },
  "orig_nbformat": 2,
  "kernelspec": {
   "name": "python3",
   "display_name": "Python 3",
   "language": "python"
  }
 },
 "nbformat": 4,
 "nbformat_minor": 2,
 "cells": [
  {
   "cell_type": "code",
   "execution_count": 1,
   "metadata": {},
   "outputs": [],
   "source": [
    "import os\n",
    "import sys\n",
    "module_path = os.path.abspath(os.path.join('..'))\n",
    "if module_path not in sys.path:\n",
    "    sys.path.append(module_path)\n",
    "\n",
    "# OPTIONAL: Load the \"autoreload\" extension so that code can change\n",
    "%load_ext autoreload\n",
    "\n",
    "# OPTIONAL: always reload modules so that as you change code in src, it gets loaded\n",
    "%autoreload 2"
   ]
  },
  {
   "cell_type": "code",
   "execution_count": 2,
   "metadata": {},
   "outputs": [],
   "source": [
    "import pandas as pd\n",
    "import numpy as np\n",
    "import joblib\n",
    "from sklearn.model_selection import train_test_split\n",
    "from src.data import getAbsolute\n",
    "from src.features import minMaxScaling"
   ]
  },
  {
   "cell_type": "code",
   "execution_count": 3,
   "metadata": {},
   "outputs": [],
   "source": [
    "df_train_abs = getAbsolute.abs(pd.read_csv(\"../data/raw/train.csv\"),'train')\n",
    "df_test_abs = getAbsolute.abs(pd.read_csv(\"../data/raw/test.csv\"),'test')"
   ]
  },
  {
   "source": [
    "## Feature Engineering"
   ],
   "cell_type": "markdown",
   "metadata": {}
  },
  {
   "cell_type": "code",
   "execution_count": 4,
   "metadata": {},
   "outputs": [],
   "source": [
    "df_train_clean = df_train_abs\n",
    "df_test_clean = df_test_abs"
   ]
  },
  {
   "source": [
    "## Feature Standardization"
   ],
   "cell_type": "markdown",
   "metadata": {}
  },
  {
   "cell_type": "code",
   "execution_count": 5,
   "metadata": {},
   "outputs": [],
   "source": [
    "y = df_train_clean.pop('TARGET_5Yrs')\n",
    "X = df_train_clean.iloc[:,2:] \n",
    "X_test_id = df_test_clean.pop('Id')\n",
    "X_test = df_test_clean.iloc[:,1:]"
   ]
  },
  {
   "cell_type": "code",
   "execution_count": 6,
   "metadata": {},
   "outputs": [],
   "source": [
    "X_train, X_val, y_train, y_val = train_test_split(X, y, test_size=0.2, random_state=8)\n"
   ]
  },
  {
   "cell_type": "code",
   "execution_count": 7,
   "metadata": {},
   "outputs": [],
   "source": [
    "sc, X_train, X_val = minMaxScaling.scale(X_train, X_val)"
   ]
  },
  {
   "cell_type": "code",
   "execution_count": 8,
   "metadata": {},
   "outputs": [],
   "source": [
    "X = np.asarray(X)\n",
    "y = np.asarray(y)"
   ]
  },
  {
   "cell_type": "code",
   "execution_count": 9,
   "metadata": {},
   "outputs": [
    {
     "output_type": "execute_result",
     "data": {
      "text/plain": [
       "['../data/processed/X_test_id']"
      ]
     },
     "metadata": {},
     "execution_count": 9
    }
   ],
   "source": [
    "joblib.dump(X, \"../data/processed/X\")\n",
    "joblib.dump(y, \"../data/processed/y\")\n",
    "joblib.dump(X_train, \"../data/processed/X_train\")\n",
    "joblib.dump(X_val, \"../data/processed/X_val\")\n",
    "joblib.dump(X_test, \"../data/processed/X_test\")\n",
    "joblib.dump(y_train, \"../data/processed/y_train\")\n",
    "joblib.dump(y_val, \"../data/processed/y_val\")\n",
    "joblib.dump(X_test_id, \"../data/processed/X_test_id\")"
   ]
  }
 ]
}