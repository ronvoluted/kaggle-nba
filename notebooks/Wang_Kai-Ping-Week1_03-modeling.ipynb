{
 "metadata": {
  "language_info": {
   "codemirror_mode": {
    "name": "ipython",
    "version": 3
   },
   "file_extension": ".py",
   "mimetype": "text/x-python",
   "name": "python",
   "nbconvert_exporter": "python",
   "pygments_lexer": "ipython3",
   "version": "3.9.1-final"
  },
  "orig_nbformat": 2,
  "kernelspec": {
   "name": "python3",
   "display_name": "Python 3",
   "language": "python"
  }
 },
 "nbformat": 4,
 "nbformat_minor": 2,
 "cells": [
  {
   "cell_type": "code",
   "execution_count": 1,
   "metadata": {},
   "outputs": [],
   "source": [
    "import os\n",
    "import sys\n",
    "module_path = os.path.abspath(os.path.join('..'))\n",
    "if module_path not in sys.path:\n",
    "    sys.path.append(module_path)\n",
    "\n",
    "# OPTIONAL: Load the \"autoreload\" extension so that code can change\n",
    "%load_ext autoreload\n",
    "\n",
    "# OPTIONAL: always reload modules so that as you change code in src, it gets loaded\n",
    "%autoreload 2"
   ]
  },
  {
   "cell_type": "code",
   "execution_count": 2,
   "metadata": {},
   "outputs": [],
   "source": [
    "import joblib\n",
    "import pandas as pd\n",
    "import numpy as np\n",
    "import math\n",
    "from src.models import eval_model, cross_validation"
   ]
  },
  {
   "cell_type": "code",
   "execution_count": 3,
   "metadata": {},
   "outputs": [],
   "source": [
    "X = joblib.load(\"../data/processed/X\")\n",
    "y = joblib.load(\"../data/processed/y\")"
   ]
  },
  {
   "cell_type": "code",
   "execution_count": 4,
   "metadata": {},
   "outputs": [],
   "source": [
    "max_roc_auc_score = 0.0\n",
    "def get_roc_auc_score(classifier):\n",
    "    global max_roc_auc_score\n",
    "    roc_score_training, roc_score_val = cross_validation.cv(classifier, X, y)\n",
    "    combined_roc_auc_score = roc_score_val * (1 - abs(roc_score_training - roc_score_val)**2)\n",
    "\n",
    "    if max_roc_auc_score < combined_roc_auc_score:\n",
    "        print(u\"\\U0001F525\"+\" The score \" + str(combined_roc_auc_score) + \" is better than \"+ str(max_roc_auc_score) + \" so save the model \"+u\"\\U0001F525\")\n",
    "        joblib.dump(classifier, \"../models/kpw_best_classifier\")\n",
    "        max_roc_auc_score = combined_roc_auc_score\n",
    "    else:\n",
    "        print(u\"\\U00002744\"+\" The score \" + str(combined_roc_auc_score) + \" is not better \"+u\"\\U00002744\")"
   ]
  },
  {
   "cell_type": "code",
   "execution_count": 5,
   "metadata": {},
   "outputs": [
    {
     "output_type": "stream",
     "name": "stdout",
     "text": [
      "Avg ROC AUC score of training set is: 0.7056885228272043\nAvg ROC AUC score of valuation set is: 0.7021123059709155\n🔥 The score 0.7021033264270414 is better than 0.0 so save the model 🔥\n"
     ]
    }
   ],
   "source": [
    "from sklearn.linear_model import LogisticRegression\n",
    "get_roc_auc_score(LogisticRegression())"
   ]
  },
  {
   "cell_type": "code",
   "execution_count": 6,
   "metadata": {},
   "outputs": [
    {
     "output_type": "stream",
     "name": "stdout",
     "text": [
      "Avg ROC AUC score of training set is: 0.7056885228272043\nAvg ROC AUC score of valuation set is: 0.7021123059709155\n❄ The score 0.7021033264270414 is not better ❄\n"
     ]
    }
   ],
   "source": [
    "get_roc_auc_score(LogisticRegression(l1_ratio=0.5))"
   ]
  },
  {
   "cell_type": "code",
   "execution_count": 7,
   "metadata": {},
   "outputs": [
    {
     "output_type": "stream",
     "name": "stdout",
     "text": [
      "Avg ROC AUC score of training set is: 0.7056885228272043\nAvg ROC AUC score of valuation set is: 0.7021123059709155\n❄ The score 0.7021033264270414 is not better ❄\n"
     ]
    }
   ],
   "source": [
    "get_roc_auc_score(LogisticRegression(random_state=8))"
   ]
  },
  {
   "cell_type": "code",
   "execution_count": 8,
   "metadata": {},
   "outputs": [
    {
     "output_type": "stream",
     "name": "stdout",
     "text": [
      "Avg ROC AUC score of training set is: 1.0\nAvg ROC AUC score of valuation set is: 0.6698288949433528\n❄ The score 0.5968088653402124 is not better ❄\n"
     ]
    }
   ],
   "source": [
    "from sklearn.ensemble import RandomForestClassifier\n",
    "get_roc_auc_score(RandomForestClassifier())"
   ]
  },
  {
   "cell_type": "code",
   "execution_count": 9,
   "metadata": {},
   "outputs": [
    {
     "output_type": "stream",
     "name": "stdout",
     "text": [
      "Avg ROC AUC score of training set is: 0.8871138365019494\nAvg ROC AUC score of valuation set is: 0.6910977215110953\n❄ The score 0.6645441455449349 is not better ❄\n"
     ]
    }
   ],
   "source": [
    "get_roc_auc_score(RandomForestClassifier(n_estimators = 150, random_state = 8, max_depth = 8, min_samples_leaf = 2))"
   ]
  }
 ]
}