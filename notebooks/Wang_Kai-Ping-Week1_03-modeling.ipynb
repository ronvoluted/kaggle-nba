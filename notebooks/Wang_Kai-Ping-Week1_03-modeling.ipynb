{
 "metadata": {
  "language_info": {
   "codemirror_mode": {
    "name": "ipython",
    "version": 3
   },
   "file_extension": ".py",
   "mimetype": "text/x-python",
   "name": "python",
   "nbconvert_exporter": "python",
   "pygments_lexer": "ipython3",
   "version": "3.9.1-final"
  },
  "orig_nbformat": 2,
  "kernelspec": {
   "name": "python3",
   "display_name": "Python 3",
   "language": "python"
  }
 },
 "nbformat": 4,
 "nbformat_minor": 2,
 "cells": [
  {
   "cell_type": "code",
   "execution_count": 1,
   "metadata": {},
   "outputs": [],
   "source": [
    "import os\n",
    "import sys\n",
    "module_path = os.path.abspath(os.path.join('..'))\n",
    "if module_path not in sys.path:\n",
    "    sys.path.append(module_path)\n",
    "\n",
    "# OPTIONAL: Load the \"autoreload\" extension so that code can change\n",
    "%load_ext autoreload\n",
    "\n",
    "# OPTIONAL: always reload modules so that as you change code in src, it gets loaded\n",
    "%autoreload 2"
   ]
  },
  {
   "cell_type": "code",
   "execution_count": 2,
   "metadata": {},
   "outputs": [],
   "source": [
    "import joblib\n",
    "import pandas as pd\n",
    "import numpy as np\n",
    "import math\n",
    "from src.models import eval_model, cross_validation\n",
    "from sklearn.linear_model import LogisticRegression, PassiveAggressiveRegressor, LinearRegression\n",
    "from sklearn.ensemble import RandomForestClassifier, AdaBoostClassifier, GradientBoostingClassifier\n",
    "from sklearn.naive_bayes import GaussianNB\n",
    "from sklearn.gaussian_process import GaussianProcessClassifier\n",
    "from sklearn.svm import LinearSVR"
   ]
  },
  {
   "cell_type": "code",
   "execution_count": 3,
   "metadata": {},
   "outputs": [],
   "source": [
    "X = joblib.load(\"../data/processed/X\")\n",
    "y = joblib.load(\"../data/processed/y\")"
   ]
  },
  {
   "cell_type": "code",
   "execution_count": 4,
   "metadata": {},
   "outputs": [],
   "source": [
    "max_roc_auc_score = 0.0\n",
    "def get_roc_auc_score(classifier):\n",
    "    global max_roc_auc_score\n",
    "    roc_score_training, roc_score_val = cross_validation.cv(classifier, X, y)\n",
    "    combined_roc_auc_score = roc_score_val * (1 - abs(roc_score_training - roc_score_val))\n",
    "\n",
    "    if max_roc_auc_score < combined_roc_auc_score:\n",
    "        print(u\"\\U0001F525\"+\" The score \" + str(combined_roc_auc_score) + \" is better than \"+ str(max_roc_auc_score) + \" so save the model \"+u\"\\U0001F525\")\n",
    "        joblib.dump(classifier, \"../models/kpw_best_classifier\")\n",
    "        max_roc_auc_score = combined_roc_auc_score\n",
    "    else:\n",
    "        print(u\"\\U00002744\"+\" The score \" + str(combined_roc_auc_score) + \" is not better \"+u\"\\U00002744\")"
   ]
  },
  {
   "cell_type": "code",
   "execution_count": 5,
   "metadata": {},
   "outputs": [
    {
     "output_type": "stream",
     "name": "stdout",
     "text": [
      "Avg ROC AUC score of training set is: 0.7065996932722781\nAvg ROC AUC score of valuation set is: 0.70259792948983\n🔥 The score 0.6997862985419746 is better than 0.0 so save the model 🔥\n"
     ]
    }
   ],
   "source": [
    "get_roc_auc_score(LogisticRegression())"
   ]
  },
  {
   "cell_type": "code",
   "execution_count": 6,
   "metadata": {},
   "outputs": [
    {
     "output_type": "stream",
     "name": "stdout",
     "text": [
      "Avg ROC AUC score of training set is: 0.7055151844928407\nAvg ROC AUC score of valuation set is: 0.7025492117358325\n🔥 The score 0.7004654699133664 is better than 0.6997862985419746 so save the model 🔥\n"
     ]
    }
   ],
   "source": [
    "get_roc_auc_score(LogisticRegression(penalty='elasticnet', solver='saga', l1_ratio=0.9, C=0.7))"
   ]
  },
  {
   "cell_type": "code",
   "execution_count": 7,
   "metadata": {},
   "outputs": [
    {
     "output_type": "stream",
     "name": "stdout",
     "text": [
      "Avg ROC AUC score of training set is: 0.7063133650101105\nAvg ROC AUC score of valuation set is: 0.7025607469416709\n❄ The score 0.6999243047885212 is not better ❄\n"
     ]
    }
   ],
   "source": [
    "get_roc_auc_score(LogisticRegression(penalty='elasticnet', solver='saga', l1_ratio=0.1, C=0.8))"
   ]
  },
  {
   "cell_type": "code",
   "execution_count": 8,
   "metadata": {},
   "outputs": [
    {
     "output_type": "stream",
     "name": "stdout",
     "text": [
      "Avg ROC AUC score of training set is: 0.7067039045736678\nAvg ROC AUC score of valuation set is: 0.7026227544659365\n❄ The score 0.6997552455358533 is not better ❄\n"
     ]
    }
   ],
   "source": [
    "get_roc_auc_score(LogisticRegression(solver='liblinear', C=1.2))"
   ]
  },
  {
   "cell_type": "code",
   "execution_count": 9,
   "metadata": {},
   "outputs": [
    {
     "output_type": "stream",
     "name": "stdout",
     "text": [
      "Avg ROC AUC score of training set is: 0.7067630863652148\nAvg ROC AUC score of valuation set is: 0.7026413187044467\n❄ The score 0.6997451944398912 is not better ❄\n"
     ]
    }
   ],
   "source": [
    "get_roc_auc_score(LogisticRegression(C=1.2))"
   ]
  },
  {
   "cell_type": "code",
   "execution_count": 10,
   "metadata": {},
   "outputs": [
    {
     "output_type": "stream",
     "name": "stdout",
     "text": [
      "Avg ROC AUC score of training set is: 0.7062174262663696\nAvg ROC AUC score of valuation set is: 0.6996658417938028\n❄ The score 0.6950819219287211 is not better ❄\n"
     ]
    }
   ],
   "source": [
    "get_roc_auc_score(LinearRegression())"
   ]
  },
  {
   "cell_type": "code",
   "execution_count": 11,
   "metadata": {},
   "outputs": [
    {
     "output_type": "stream",
     "name": "stdout",
     "text": [
      "Avg ROC AUC score of training set is: 0.7033248869724663\nAvg ROC AUC score of valuation set is: 0.6969978278954306\n❄ The score 0.6925878814617707 is not better ❄\n"
     ]
    }
   ],
   "source": [
    "get_roc_auc_score(LinearRegression(fit_intercept=False))"
   ]
  },
  {
   "cell_type": "code",
   "execution_count": 12,
   "metadata": {},
   "outputs": [
    {
     "output_type": "stream",
     "name": "stdout",
     "text": [
      "Avg ROC AUC score of training set is: 0.49110185598356715\nAvg ROC AUC score of valuation set is: 0.4888657961376053\n❄ The score 0.4877726629607978 is not better ❄\n"
     ]
    }
   ],
   "source": [
    "get_roc_auc_score(LinearSVR())"
   ]
  },
  {
   "cell_type": "code",
   "execution_count": 13,
   "metadata": {},
   "outputs": [],
   "source": [
    "# get_roc_auc_score(PassiveAggressiveRegressor())"
   ]
  },
  {
   "cell_type": "code",
   "execution_count": 14,
   "metadata": {},
   "outputs": [],
   "source": [
    "# get_roc_auc_score(GaussianProcessClassifier())"
   ]
  },
  {
   "cell_type": "code",
   "execution_count": 15,
   "metadata": {},
   "outputs": [],
   "source": [
    "# get_roc_auc_score(RandomForestClassifier())"
   ]
  },
  {
   "cell_type": "code",
   "execution_count": 16,
   "metadata": {},
   "outputs": [],
   "source": [
    "# get_roc_auc_score(RandomForestClassifier(n_estimators = 150, random_state = 8, max_depth = 5, min_samples_leaf = 2))"
   ]
  },
  {
   "cell_type": "code",
   "execution_count": 17,
   "metadata": {},
   "outputs": [],
   "source": [
    "# get_roc_auc_score(RandomForestClassifier(n_estimators = 150, random_state = 8, max_depth = 3, min_samples_leaf = 2))"
   ]
  },
  {
   "cell_type": "code",
   "execution_count": 18,
   "metadata": {},
   "outputs": [],
   "source": [
    "# get_roc_auc_score(GradientBoostingClassifier())"
   ]
  },
  {
   "cell_type": "code",
   "execution_count": 19,
   "metadata": {},
   "outputs": [],
   "source": [
    "# get_roc_auc_score(GradientBoostingClassifier(learning_rate=0.1, max_depth = 5))"
   ]
  },
  {
   "cell_type": "code",
   "execution_count": 20,
   "metadata": {},
   "outputs": [],
   "source": [
    "# get_roc_auc_score(GradientBoostingClassifier(learning_rate=0.05, max_depth = 5))"
   ]
  },
  {
   "cell_type": "code",
   "execution_count": 21,
   "metadata": {},
   "outputs": [],
   "source": [
    "# get_roc_auc_score(GradientBoostingClassifier(learning_rate=0.01, max_depth = 5))"
   ]
  },
  {
   "cell_type": "code",
   "execution_count": 22,
   "metadata": {},
   "outputs": [],
   "source": [
    "# get_roc_auc_score(GradientBoostingClassifier(learning_rate=0.005, max_depth = 5))"
   ]
  },
  {
   "cell_type": "code",
   "execution_count": 23,
   "metadata": {},
   "outputs": [],
   "source": [
    "# get_roc_auc_score(AdaBoostClassifier())"
   ]
  },
  {
   "cell_type": "code",
   "execution_count": 24,
   "metadata": {},
   "outputs": [],
   "source": [
    "# get_roc_auc_score(GaussianNB())"
   ]
  }
 ]
}