{
 "cells": [
  {
   "cell_type": "code",
   "execution_count": 1,
   "id": "aggregate-hudson",
   "metadata": {},
   "outputs": [],
   "source": [
    "import os\n",
    "import sys\n",
    "module_path = os.path.abspath(os.path.join('..'))\n",
    "if module_path not in sys.path:\n",
    "    sys.path.append(module_path)\n",
    "import pandas as pd\n",
    "import numpy as np\n",
    "from sklearn.cluster import KMeans\n",
    "from sklearn.preprocessing import StandardScaler\n",
    "from sklearn.mixture import GaussianMixture\n",
    "from data import resample_nba_data as re\n",
    "from data import clean_and_split_nba_data as clean\n",
    "from sklearn.linear_model import LinearRegression\n",
    "from sklearn.linear_model import LogisticRegression\n",
    "from sklearn.ensemble import RandomForestClassifier\n",
    "import xgboost as xgb\n",
    "from models import plot_validation_curve as vc\n",
    "from models import eval_model as evm\n",
    "from joblib import dump\n",
    "import joblib\n",
    "import altair as alt"
   ]
  },
  {
   "cell_type": "code",
   "execution_count": 2,
   "id": "graduate-scottish",
   "metadata": {},
   "outputs": [],
   "source": [
    "sp_wk3_linear_reg_model\t = joblib.load(\"../models/sp_wk3_linear_reg_model.joblib\")\n",
    "sp_wk3_logistic_reg_model = joblib.load(\"../models/sp_wk3_logistic_reg_model.joblib\")\n",
    "sp_wk3_rf_downsample_model = joblib.load(\"../models/sp_wk3_rf_downsample_model.joblib\")\n",
    "sp_wk3_rf_upsample_model = joblib.load(\"../models/sp_wk3_rf_upsample_model.joblib\")\n",
    "sp_wk3_xgboost_downsample_model = joblib.load(\"../models/sp_wk3_xgboost_downsample_model.joblib\")\n",
    "sp_wk3_xgboost_upsample_model = joblib.load(\"../models/sp_wk3_xgboost_upsample_model.joblib\")\n",
    "sp_wk3_kmean_model = joblib.load(\"../models/sp_wk3_kmean_model.joblib\")\n",
    "sp_wk3_gussian_mixture_model = joblib.load(\"../models/sp_wk3_gussian_mixture_model.joblib\")\n",
    "\n",
    "\n",
    "scaler = np.load('../models/sp_wk3_scaler_logistic_regression.joblib',allow_pickle=True)"
   ]
  },
  {
   "cell_type": "code",
   "execution_count": 3,
   "id": "patent-uncle",
   "metadata": {},
   "outputs": [],
   "source": [
    "df=pd.read_csv('../data/raw/train.csv')"
   ]
  },
  {
   "cell_type": "code",
   "execution_count": 4,
   "id": "mobile-slope",
   "metadata": {},
   "outputs": [],
   "source": [
    "def clean_nba_data(df):\n",
    "    \"\"\"\n",
    "    Imports the file and splits it into Train, Valdiation and Test set.\n",
    "    It returns all splits.\n",
    "    \n",
    "    Parameters\n",
    "    ----------\n",
    "    file : input csv file with the path\n",
    "    \"\"\"\n",
    "    \n",
    "    df_cleaned = df.copy()\n",
    "    df_cleaned[ df_cleaned<0 ] = 0\n",
    "    df_cleaned.loc[df_cleaned['3P Made'] > df_cleaned['3PA'], ['3P Made' , '3PA', 'CALC3P%']] = 0, 0, 0\n",
    "    df_cleaned.loc[df_cleaned['FGM'] > df_cleaned['FGA'], ['FGM', 'FGA', 'CALCFG%']] = 0, 0, 0\n",
    "    df_cleaned.loc[df_cleaned['FTM'] > df_cleaned['FTA'], ['FTM', 'FTA', 'CALCFT%']] = 0, 0, 0\n",
    "    df_cleaned.loc[df_cleaned['3P Made'] > 0, ['CALC3P%']] = df_cleaned['3P Made']/df_cleaned['3PA']*100\n",
    "    df_cleaned.loc[df_cleaned['FGM'] > 0, ['CALCFG%']] =df_cleaned['FGM']/df_cleaned['FGA']*100\n",
    "    df_cleaned.loc[df_cleaned['FTM'] > 0, ['CALCFT%']] = df_cleaned['FTM']/df_cleaned['FTA']*100\n",
    "    df_cleaned = df_cleaned.drop(['3P%','FT%','FG%','Id_old','Id','TARGET_5Yrs'],axis=1)\n",
    "    df_cleaned = df_cleaned.fillna(0)\n",
    "    return df_cleaned"
   ]
  },
  {
   "cell_type": "code",
   "execution_count": 5,
   "id": "automatic-lafayette",
   "metadata": {},
   "outputs": [],
   "source": [
    "x_data_stg1 = clean_nba_data(df)"
   ]
  },
  {
   "cell_type": "code",
   "execution_count": 6,
   "id": "alternative-malaysia",
   "metadata": {},
   "outputs": [
    {
     "data": {
      "text/plain": [
       "(8000, 19)"
      ]
     },
     "execution_count": 6,
     "metadata": {},
     "output_type": "execute_result"
    }
   ],
   "source": [
    "x_data_stg1.shape"
   ]
  },
  {
   "cell_type": "code",
   "execution_count": 7,
   "id": "formal-output",
   "metadata": {},
   "outputs": [
    {
     "data": {
      "text/plain": [
       "Index(['GP', 'MIN', 'PTS', 'FGM', 'FGA', '3P Made', '3PA', 'FTM', 'FTA',\n",
       "       'OREB', 'DREB', 'REB', 'AST', 'STL', 'BLK', 'TOV', 'CALC3P%', 'CALCFG%',\n",
       "       'CALCFT%'],\n",
       "      dtype='object')"
      ]
     },
     "execution_count": 7,
     "metadata": {},
     "output_type": "execute_result"
    }
   ],
   "source": [
    "x_data_stg1.columns"
   ]
  },
  {
   "cell_type": "code",
   "execution_count": 13,
   "id": "lesser-albuquerque",
   "metadata": {},
   "outputs": [],
   "source": [
    "def _pred_prob_for_model(mod,df):\n",
    "    y_pred=0.0\n",
    "    y_pred=mod.predict_proba(df)\n",
    "    print('Classes',mod.classes_)\n",
    "#     print('Unique Values ',np.unique(y_pred,return_counts=True))\n",
    "    print('Unique Values ',np.unique(y_pred.round(),return_counts=True))\n",
    "    print('Unique Values for Prediction Class',np.unique(y_pred[:,1].round(),return_counts=True))\n",
    "    return y_pred"
   ]
  },
  {
   "cell_type": "markdown",
   "id": "worthy-arrest",
   "metadata": {},
   "source": [
    "# For GMM"
   ]
  },
  {
   "cell_type": "code",
   "execution_count": 16,
   "id": "contemporary-sunrise",
   "metadata": {},
   "outputs": [],
   "source": [
    "y_pred_gmm = sp_wk3_gussian_mixture_model.predict(x_data_stg1)\n",
    "y_pred_prob_gmm = sp_wk3_gussian_mixture_model.predict_proba(x_data_stg1)"
   ]
  },
  {
   "cell_type": "code",
   "execution_count": 18,
   "id": "invisible-syndication",
   "metadata": {},
   "outputs": [
    {
     "name": "stdout",
     "output_type": "stream",
     "text": [
      "Unique Values for Prediction Class (array([0, 1], dtype=int64), array([5651, 2349], dtype=int64))\n"
     ]
    }
   ],
   "source": [
    "print('Unique Values for Prediction Class',np.unique(y_pred_gmm,return_counts=True))"
   ]
  },
  {
   "cell_type": "code",
   "execution_count": 19,
   "id": "practical-money",
   "metadata": {},
   "outputs": [
    {
     "name": "stdout",
     "output_type": "stream",
     "text": [
      "Unique Values for Prediction Class (array([0., 1.]), array([2349, 5651], dtype=int64))\n",
      "Unique Values for Prediction Class (array([0., 1.]), array([5651, 2349], dtype=int64))\n"
     ]
    }
   ],
   "source": [
    "print('Unique Values for Prediction Class',np.unique(y_pred_prob_gmm[:,0].round(),return_counts=True))\n",
    "print('Unique Values for Prediction Class',np.unique(y_pred_prob_gmm[:,1].round(),return_counts=True))"
   ]
  },
  {
   "cell_type": "code",
   "execution_count": 21,
   "id": "institutional-immigration",
   "metadata": {},
   "outputs": [],
   "source": [
    "df['gmm_probability']=y_pred_prob_gmm[:,1]"
   ]
  },
  {
   "cell_type": "markdown",
   "id": "average-audience",
   "metadata": {},
   "source": [
    "# Logistic Regression"
   ]
  },
  {
   "cell_type": "code",
   "execution_count": 22,
   "id": "brief-brake",
   "metadata": {},
   "outputs": [],
   "source": [
    "x_data_stg1_lir= scaler.fit_transform(x_data_stg1)"
   ]
  },
  {
   "cell_type": "code",
   "execution_count": 23,
   "id": "adult-preview",
   "metadata": {},
   "outputs": [
    {
     "name": "stdout",
     "output_type": "stream",
     "text": [
      "Classes [0 1]\n",
      "Unique Values  (array([0., 1.]), array([8000, 8000], dtype=int64))\n",
      "Unique Values for Prediction Class (array([0., 1.]), array([2418, 5582], dtype=int64))\n"
     ]
    }
   ],
   "source": [
    "y_pred_log_reg = _pred_prob_for_model(sp_wk3_logistic_reg_model,x_data_stg1_lir)"
   ]
  },
  {
   "cell_type": "code",
   "execution_count": 24,
   "id": "martial-communist",
   "metadata": {},
   "outputs": [],
   "source": [
    "df['logistic_reg_probability']=y_pred_log_reg[:,1]"
   ]
  },
  {
   "cell_type": "markdown",
   "id": "golden-nancy",
   "metadata": {},
   "source": [
    "# Random Forest Down-Sample Prediction"
   ]
  },
  {
   "cell_type": "code",
   "execution_count": 25,
   "id": "fewer-fifteen",
   "metadata": {},
   "outputs": [
    {
     "name": "stdout",
     "output_type": "stream",
     "text": [
      "Classes [0 1]\n",
      "Unique Values  (array([0., 1.]), array([8000, 8000], dtype=int64))\n",
      "Unique Values for Prediction Class (array([0., 1.]), array([3188, 4812], dtype=int64))\n"
     ]
    }
   ],
   "source": [
    "y_pred_rf_ds = _pred_prob_for_model(sp_wk3_rf_downsample_model,x_data_stg1)"
   ]
  },
  {
   "cell_type": "code",
   "execution_count": 26,
   "id": "rotary-tutorial",
   "metadata": {},
   "outputs": [],
   "source": [
    "df['rf_ds_probability']=y_pred_rf_ds[:,1]"
   ]
  },
  {
   "cell_type": "markdown",
   "id": "occupied-highlight",
   "metadata": {},
   "source": [
    "# Random Forest Up-Sample Prediction"
   ]
  },
  {
   "cell_type": "code",
   "execution_count": 27,
   "id": "neither-balance",
   "metadata": {},
   "outputs": [
    {
     "name": "stdout",
     "output_type": "stream",
     "text": [
      "Classes [0 1]\n",
      "Unique Values  (array([0., 1.]), array([8000, 8000], dtype=int64))\n",
      "Unique Values for Prediction Class (array([0., 1.]), array([3419, 4581], dtype=int64))\n"
     ]
    }
   ],
   "source": [
    "y_pred_rf_us = _pred_prob_for_model(sp_wk3_rf_upsample_model,x_data_stg1)"
   ]
  },
  {
   "cell_type": "code",
   "execution_count": 28,
   "id": "square-toyota",
   "metadata": {},
   "outputs": [],
   "source": [
    "df['rf_us_probability']=y_pred_rf_us[:,1]"
   ]
  },
  {
   "cell_type": "markdown",
   "id": "distributed-label",
   "metadata": {},
   "source": [
    "# XGBoost Down-Sample Prediction"
   ]
  },
  {
   "cell_type": "code",
   "execution_count": 29,
   "id": "false-detection",
   "metadata": {},
   "outputs": [
    {
     "name": "stdout",
     "output_type": "stream",
     "text": [
      "Classes [0 1]\n",
      "Unique Values  (array([0., 1.], dtype=float32), array([8000, 8000], dtype=int64))\n",
      "Unique Values for Prediction Class (array([0., 1.], dtype=float32), array([3135, 4865], dtype=int64))\n"
     ]
    }
   ],
   "source": [
    "y_pred_xg_ds = _pred_prob_for_model(sp_wk3_xgboost_downsample_model,x_data_stg1)"
   ]
  },
  {
   "cell_type": "code",
   "execution_count": 30,
   "id": "selective-savannah",
   "metadata": {},
   "outputs": [],
   "source": [
    "df['xg_ds_probability']=y_pred_xg_ds[:,1]"
   ]
  },
  {
   "cell_type": "markdown",
   "id": "reverse-pontiac",
   "metadata": {},
   "source": [
    "# XGBoost Up-Sample Prediction"
   ]
  },
  {
   "cell_type": "code",
   "execution_count": 31,
   "id": "periodic-showcase",
   "metadata": {},
   "outputs": [
    {
     "name": "stdout",
     "output_type": "stream",
     "text": [
      "Classes [0 1]\n",
      "Unique Values  (array([0., 1.], dtype=float32), array([8000, 8000], dtype=int64))\n",
      "Unique Values for Prediction Class (array([0., 1.], dtype=float32), array([3312, 4688], dtype=int64))\n"
     ]
    }
   ],
   "source": [
    "y_pred_xg_us = _pred_prob_for_model(sp_wk3_xgboost_upsample_model,x_data_stg1)"
   ]
  },
  {
   "cell_type": "code",
   "execution_count": 32,
   "id": "above-chile",
   "metadata": {},
   "outputs": [],
   "source": [
    "df['xg_us_probability']=y_pred_xg_us[:,1]"
   ]
  },
  {
   "cell_type": "code",
   "execution_count": 33,
   "id": "focused-stress",
   "metadata": {},
   "outputs": [
    {
     "data": {
      "text/html": [
       "<div>\n",
       "<style scoped>\n",
       "    .dataframe tbody tr th:only-of-type {\n",
       "        vertical-align: middle;\n",
       "    }\n",
       "\n",
       "    .dataframe tbody tr th {\n",
       "        vertical-align: top;\n",
       "    }\n",
       "\n",
       "    .dataframe thead th {\n",
       "        text-align: right;\n",
       "    }\n",
       "</style>\n",
       "<table border=\"1\" class=\"dataframe\">\n",
       "  <thead>\n",
       "    <tr style=\"text-align: right;\">\n",
       "      <th></th>\n",
       "      <th>Id_old</th>\n",
       "      <th>Id</th>\n",
       "      <th>GP</th>\n",
       "      <th>MIN</th>\n",
       "      <th>PTS</th>\n",
       "      <th>FGM</th>\n",
       "      <th>FGA</th>\n",
       "      <th>FG%</th>\n",
       "      <th>3P Made</th>\n",
       "      <th>3PA</th>\n",
       "      <th>...</th>\n",
       "      <th>STL</th>\n",
       "      <th>BLK</th>\n",
       "      <th>TOV</th>\n",
       "      <th>TARGET_5Yrs</th>\n",
       "      <th>gmm_probability</th>\n",
       "      <th>logistic_reg_probability</th>\n",
       "      <th>rf_ds_probability</th>\n",
       "      <th>rf_us_probability</th>\n",
       "      <th>xg_ds_probability</th>\n",
       "      <th>xg_us_probability</th>\n",
       "    </tr>\n",
       "  </thead>\n",
       "  <tbody>\n",
       "    <tr>\n",
       "      <th>0</th>\n",
       "      <td>10556</td>\n",
       "      <td>3799</td>\n",
       "      <td>80</td>\n",
       "      <td>24.3</td>\n",
       "      <td>7.8</td>\n",
       "      <td>3.0</td>\n",
       "      <td>6.4</td>\n",
       "      <td>45.7</td>\n",
       "      <td>0.1</td>\n",
       "      <td>0.3</td>\n",
       "      <td>...</td>\n",
       "      <td>1.1</td>\n",
       "      <td>0.2</td>\n",
       "      <td>1.6</td>\n",
       "      <td>1</td>\n",
       "      <td>0.0</td>\n",
       "      <td>0.510778</td>\n",
       "      <td>0.637954</td>\n",
       "      <td>0.585195</td>\n",
       "      <td>0.676121</td>\n",
       "      <td>0.673573</td>\n",
       "    </tr>\n",
       "    <tr>\n",
       "      <th>1</th>\n",
       "      <td>5342</td>\n",
       "      <td>3800</td>\n",
       "      <td>75</td>\n",
       "      <td>21.8</td>\n",
       "      <td>10.5</td>\n",
       "      <td>4.2</td>\n",
       "      <td>7.9</td>\n",
       "      <td>55.1</td>\n",
       "      <td>-0.3</td>\n",
       "      <td>-1.0</td>\n",
       "      <td>...</td>\n",
       "      <td>0.5</td>\n",
       "      <td>0.6</td>\n",
       "      <td>1.4</td>\n",
       "      <td>1</td>\n",
       "      <td>1.0</td>\n",
       "      <td>0.514854</td>\n",
       "      <td>0.637954</td>\n",
       "      <td>0.581390</td>\n",
       "      <td>0.676121</td>\n",
       "      <td>0.673573</td>\n",
       "    </tr>\n",
       "    <tr>\n",
       "      <th>2</th>\n",
       "      <td>5716</td>\n",
       "      <td>3801</td>\n",
       "      <td>85</td>\n",
       "      <td>19.1</td>\n",
       "      <td>4.5</td>\n",
       "      <td>1.9</td>\n",
       "      <td>4.5</td>\n",
       "      <td>42.8</td>\n",
       "      <td>0.4</td>\n",
       "      <td>1.2</td>\n",
       "      <td>...</td>\n",
       "      <td>0.4</td>\n",
       "      <td>0.2</td>\n",
       "      <td>0.6</td>\n",
       "      <td>1</td>\n",
       "      <td>0.0</td>\n",
       "      <td>0.501034</td>\n",
       "      <td>0.586783</td>\n",
       "      <td>0.474740</td>\n",
       "      <td>0.487850</td>\n",
       "      <td>0.508030</td>\n",
       "    </tr>\n",
       "    <tr>\n",
       "      <th>3</th>\n",
       "      <td>13790</td>\n",
       "      <td>3802</td>\n",
       "      <td>63</td>\n",
       "      <td>19.1</td>\n",
       "      <td>8.2</td>\n",
       "      <td>3.5</td>\n",
       "      <td>6.7</td>\n",
       "      <td>52.5</td>\n",
       "      <td>0.3</td>\n",
       "      <td>0.8</td>\n",
       "      <td>...</td>\n",
       "      <td>0.4</td>\n",
       "      <td>0.1</td>\n",
       "      <td>1.9</td>\n",
       "      <td>1</td>\n",
       "      <td>0.0</td>\n",
       "      <td>0.505454</td>\n",
       "      <td>0.616250</td>\n",
       "      <td>0.573161</td>\n",
       "      <td>0.612665</td>\n",
       "      <td>0.596278</td>\n",
       "    </tr>\n",
       "    <tr>\n",
       "      <th>4</th>\n",
       "      <td>5470</td>\n",
       "      <td>3803</td>\n",
       "      <td>63</td>\n",
       "      <td>17.8</td>\n",
       "      <td>3.7</td>\n",
       "      <td>1.7</td>\n",
       "      <td>3.4</td>\n",
       "      <td>50.8</td>\n",
       "      <td>0.5</td>\n",
       "      <td>1.4</td>\n",
       "      <td>...</td>\n",
       "      <td>0.4</td>\n",
       "      <td>0.6</td>\n",
       "      <td>0.7</td>\n",
       "      <td>1</td>\n",
       "      <td>0.0</td>\n",
       "      <td>0.502677</td>\n",
       "      <td>0.595122</td>\n",
       "      <td>0.509322</td>\n",
       "      <td>0.564377</td>\n",
       "      <td>0.562738</td>\n",
       "    </tr>\n",
       "    <tr>\n",
       "      <th>...</th>\n",
       "      <td>...</td>\n",
       "      <td>...</td>\n",
       "      <td>...</td>\n",
       "      <td>...</td>\n",
       "      <td>...</td>\n",
       "      <td>...</td>\n",
       "      <td>...</td>\n",
       "      <td>...</td>\n",
       "      <td>...</td>\n",
       "      <td>...</td>\n",
       "      <td>...</td>\n",
       "      <td>...</td>\n",
       "      <td>...</td>\n",
       "      <td>...</td>\n",
       "      <td>...</td>\n",
       "      <td>...</td>\n",
       "      <td>...</td>\n",
       "      <td>...</td>\n",
       "      <td>...</td>\n",
       "      <td>...</td>\n",
       "      <td>...</td>\n",
       "    </tr>\n",
       "    <tr>\n",
       "      <th>7995</th>\n",
       "      <td>2996</td>\n",
       "      <td>11794</td>\n",
       "      <td>32</td>\n",
       "      <td>9.2</td>\n",
       "      <td>1.8</td>\n",
       "      <td>0.7</td>\n",
       "      <td>1.8</td>\n",
       "      <td>40.3</td>\n",
       "      <td>-0.1</td>\n",
       "      <td>-0.2</td>\n",
       "      <td>...</td>\n",
       "      <td>0.3</td>\n",
       "      <td>0.2</td>\n",
       "      <td>0.4</td>\n",
       "      <td>1</td>\n",
       "      <td>1.0</td>\n",
       "      <td>0.493806</td>\n",
       "      <td>0.377884</td>\n",
       "      <td>0.432964</td>\n",
       "      <td>0.362439</td>\n",
       "      <td>0.386535</td>\n",
       "    </tr>\n",
       "    <tr>\n",
       "      <th>7996</th>\n",
       "      <td>11679</td>\n",
       "      <td>11795</td>\n",
       "      <td>54</td>\n",
       "      <td>6.0</td>\n",
       "      <td>1.8</td>\n",
       "      <td>0.7</td>\n",
       "      <td>1.4</td>\n",
       "      <td>48.7</td>\n",
       "      <td>0.1</td>\n",
       "      <td>0.1</td>\n",
       "      <td>...</td>\n",
       "      <td>0.0</td>\n",
       "      <td>0.3</td>\n",
       "      <td>0.3</td>\n",
       "      <td>1</td>\n",
       "      <td>0.0</td>\n",
       "      <td>0.495506</td>\n",
       "      <td>0.368252</td>\n",
       "      <td>0.424285</td>\n",
       "      <td>0.395084</td>\n",
       "      <td>0.377646</td>\n",
       "    </tr>\n",
       "    <tr>\n",
       "      <th>7997</th>\n",
       "      <td>5537</td>\n",
       "      <td>11796</td>\n",
       "      <td>85</td>\n",
       "      <td>28.2</td>\n",
       "      <td>10.7</td>\n",
       "      <td>4.0</td>\n",
       "      <td>9.0</td>\n",
       "      <td>45.1</td>\n",
       "      <td>0.2</td>\n",
       "      <td>0.6</td>\n",
       "      <td>...</td>\n",
       "      <td>1.2</td>\n",
       "      <td>0.2</td>\n",
       "      <td>1.8</td>\n",
       "      <td>1</td>\n",
       "      <td>0.0</td>\n",
       "      <td>0.512967</td>\n",
       "      <td>0.637954</td>\n",
       "      <td>0.586038</td>\n",
       "      <td>0.676121</td>\n",
       "      <td>0.673573</td>\n",
       "    </tr>\n",
       "    <tr>\n",
       "      <th>7998</th>\n",
       "      <td>1292</td>\n",
       "      <td>11797</td>\n",
       "      <td>39</td>\n",
       "      <td>7.7</td>\n",
       "      <td>2.5</td>\n",
       "      <td>1.0</td>\n",
       "      <td>2.3</td>\n",
       "      <td>40.1</td>\n",
       "      <td>-0.3</td>\n",
       "      <td>-0.5</td>\n",
       "      <td>...</td>\n",
       "      <td>0.3</td>\n",
       "      <td>0.3</td>\n",
       "      <td>0.5</td>\n",
       "      <td>1</td>\n",
       "      <td>1.0</td>\n",
       "      <td>0.494742</td>\n",
       "      <td>0.368252</td>\n",
       "      <td>0.423860</td>\n",
       "      <td>0.373433</td>\n",
       "      <td>0.377646</td>\n",
       "    </tr>\n",
       "    <tr>\n",
       "      <th>7999</th>\n",
       "      <td>2900</td>\n",
       "      <td>11798</td>\n",
       "      <td>49</td>\n",
       "      <td>19.2</td>\n",
       "      <td>4.8</td>\n",
       "      <td>1.7</td>\n",
       "      <td>5.1</td>\n",
       "      <td>32.6</td>\n",
       "      <td>0.7</td>\n",
       "      <td>2.4</td>\n",
       "      <td>...</td>\n",
       "      <td>0.9</td>\n",
       "      <td>-0.3</td>\n",
       "      <td>1.4</td>\n",
       "      <td>1</td>\n",
       "      <td>0.0</td>\n",
       "      <td>0.499128</td>\n",
       "      <td>0.368252</td>\n",
       "      <td>0.447846</td>\n",
       "      <td>0.324417</td>\n",
       "      <td>0.327457</td>\n",
       "    </tr>\n",
       "  </tbody>\n",
       "</table>\n",
       "<p>8000 rows × 28 columns</p>\n",
       "</div>"
      ],
      "text/plain": [
       "      Id_old     Id  GP   MIN   PTS  FGM  FGA   FG%  3P Made  3PA  ...  STL  \\\n",
       "0      10556   3799  80  24.3   7.8  3.0  6.4  45.7      0.1  0.3  ...  1.1   \n",
       "1       5342   3800  75  21.8  10.5  4.2  7.9  55.1     -0.3 -1.0  ...  0.5   \n",
       "2       5716   3801  85  19.1   4.5  1.9  4.5  42.8      0.4  1.2  ...  0.4   \n",
       "3      13790   3802  63  19.1   8.2  3.5  6.7  52.5      0.3  0.8  ...  0.4   \n",
       "4       5470   3803  63  17.8   3.7  1.7  3.4  50.8      0.5  1.4  ...  0.4   \n",
       "...      ...    ...  ..   ...   ...  ...  ...   ...      ...  ...  ...  ...   \n",
       "7995    2996  11794  32   9.2   1.8  0.7  1.8  40.3     -0.1 -0.2  ...  0.3   \n",
       "7996   11679  11795  54   6.0   1.8  0.7  1.4  48.7      0.1  0.1  ...  0.0   \n",
       "7997    5537  11796  85  28.2  10.7  4.0  9.0  45.1      0.2  0.6  ...  1.2   \n",
       "7998    1292  11797  39   7.7   2.5  1.0  2.3  40.1     -0.3 -0.5  ...  0.3   \n",
       "7999    2900  11798  49  19.2   4.8  1.7  5.1  32.6      0.7  2.4  ...  0.9   \n",
       "\n",
       "      BLK  TOV  TARGET_5Yrs  gmm_probability  logistic_reg_probability  \\\n",
       "0     0.2  1.6            1              0.0                  0.510778   \n",
       "1     0.6  1.4            1              1.0                  0.514854   \n",
       "2     0.2  0.6            1              0.0                  0.501034   \n",
       "3     0.1  1.9            1              0.0                  0.505454   \n",
       "4     0.6  0.7            1              0.0                  0.502677   \n",
       "...   ...  ...          ...              ...                       ...   \n",
       "7995  0.2  0.4            1              1.0                  0.493806   \n",
       "7996  0.3  0.3            1              0.0                  0.495506   \n",
       "7997  0.2  1.8            1              0.0                  0.512967   \n",
       "7998  0.3  0.5            1              1.0                  0.494742   \n",
       "7999 -0.3  1.4            1              0.0                  0.499128   \n",
       "\n",
       "      rf_ds_probability  rf_us_probability  xg_ds_probability  \\\n",
       "0              0.637954           0.585195           0.676121   \n",
       "1              0.637954           0.581390           0.676121   \n",
       "2              0.586783           0.474740           0.487850   \n",
       "3              0.616250           0.573161           0.612665   \n",
       "4              0.595122           0.509322           0.564377   \n",
       "...                 ...                ...                ...   \n",
       "7995           0.377884           0.432964           0.362439   \n",
       "7996           0.368252           0.424285           0.395084   \n",
       "7997           0.637954           0.586038           0.676121   \n",
       "7998           0.368252           0.423860           0.373433   \n",
       "7999           0.368252           0.447846           0.324417   \n",
       "\n",
       "      xg_us_probability  \n",
       "0              0.673573  \n",
       "1              0.673573  \n",
       "2              0.508030  \n",
       "3              0.596278  \n",
       "4              0.562738  \n",
       "...                 ...  \n",
       "7995           0.386535  \n",
       "7996           0.377646  \n",
       "7997           0.673573  \n",
       "7998           0.377646  \n",
       "7999           0.327457  \n",
       "\n",
       "[8000 rows x 28 columns]"
      ]
     },
     "execution_count": 33,
     "metadata": {},
     "output_type": "execute_result"
    }
   ],
   "source": [
    "df"
   ]
  },
  {
   "cell_type": "code",
   "execution_count": 34,
   "id": "municipal-saskatchewan",
   "metadata": {},
   "outputs": [],
   "source": [
    "df.to_csv('../data/processed/Train_Stg1_Output.csv',index=False)"
   ]
  }
 ],
 "metadata": {
  "kernelspec": {
   "display_name": "Python 3",
   "language": "python",
   "name": "python3"
  },
  "language_info": {
   "codemirror_mode": {
    "name": "ipython",
    "version": 3
   },
   "file_extension": ".py",
   "mimetype": "text/x-python",
   "name": "python",
   "nbconvert_exporter": "python",
   "pygments_lexer": "ipython3",
   "version": "3.9.1"
  }
 },
 "nbformat": 4,
 "nbformat_minor": 5
}
