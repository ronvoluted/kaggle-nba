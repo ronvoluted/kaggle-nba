{
 "cells": [
  {
   "cell_type": "code",
   "execution_count": 59,
   "id": "widespread-activation",
   "metadata": {},
   "outputs": [],
   "source": [
    "import pandas as pd\n",
    "import numpy as np\n",
    "\n",
    "df = pd.read_csv('../data/raw/train.csv')\n",
    "dfc = df.copy()\n",
    "\n",
    "target = dfc.loc[:, 'TARGET_5Yrs':]\n",
    "dfc = dfc.loc[:, 'GP':'TOV']"
   ]
  },
  {
   "cell_type": "raw",
   "id": "combined-bristol",
   "metadata": {},
   "source": [
    "display(dfc)"
   ]
  },
  {
   "cell_type": "code",
   "execution_count": 66,
   "id": "prompt-encoding",
   "metadata": {},
   "outputs": [],
   "source": [
    "from src.features.recalculate_percentage import replaceAll\n",
    "\n",
    "#dfc = replaceAll(dfc)\n",
    "#dfc = dfc.drop(['FGA', 'MIN'], axis=1)\n",
    "# Enabling any combination of the above did not achieve a higher score"
   ]
  },
  {
   "cell_type": "code",
   "execution_count": 61,
   "id": "western-glance",
   "metadata": {},
   "outputs": [],
   "source": [
    "from sklearn.model_selection import train_test_split\n",
    "\n",
    "X_train, X_test, y_train, y_test = train_test_split(dfc, target, test_size=0.2, random_state=5)\n",
    "X_train, X_valid, y_train, y_valid = train_test_split(X_train, y_train, test_size=0.2, random_state=10)"
   ]
  },
  {
   "cell_type": "code",
   "execution_count": 62,
   "id": "juvenile-duncan",
   "metadata": {},
   "outputs": [],
   "source": [
    "from sklearn.preprocessing import StandardScaler\n",
    "from src.features.minMaxScaling import scale\n",
    "\n",
    "scaler = StandardScaler()\n",
    "X_train = scaler.fit_transform(X_train)\n",
    "X_test = scaler.transform(X_test)"
   ]
  },
  {
   "cell_type": "code",
   "execution_count": 63,
   "id": "civic-wrist",
   "metadata": {},
   "outputs": [
    {
     "name": "stderr",
     "output_type": "stream",
     "text": [
      "/root/.local/share/virtualenvs/kaggle-ydomBp7G/lib/python3.9/site-packages/sklearn/utils/validation.py:63: DataConversionWarning: A column-vector y was passed when a 1d array was expected. Please change the shape of y to (n_samples, ), for example using ravel().\n",
      "  return f(*args, **kwargs)\n"
     ]
    },
    {
     "data": {
      "text/plain": [
       "LogisticRegression(max_iter=8000)"
      ]
     },
     "execution_count": 63,
     "metadata": {},
     "output_type": "execute_result"
    }
   ],
   "source": [
    "from sklearn.linear_model import LogisticRegression\n",
    "\n",
    "log_reg = LogisticRegression(max_iter=8_000)\n",
    "\n",
    "log_reg.fit(X_train, y_train)"
   ]
  },
  {
   "cell_type": "code",
   "execution_count": 64,
   "id": "discrete-stanford",
   "metadata": {},
   "outputs": [
    {
     "name": "stderr",
     "output_type": "stream",
     "text": [
      "/root/.local/share/virtualenvs/kaggle-ydomBp7G/lib/python3.9/site-packages/sklearn/utils/validation.py:63: DataConversionWarning: A column-vector y was passed when a 1d array was expected. Please change the shape of y to (n_samples, ), for example using ravel().\n",
      "  return f(*args, **kwargs)\n"
     ]
    },
    {
     "data": {
      "text/html": [
       "<div style=\"padding: 1rem; background: #2E3440; font-family: Ubuntu, 'Helvetica Neue', 'Segoe UI';\"><div style=\"max-width: 100%; height: 2rem; display: flex;\"><span style=\"min-width: 5rem; margin-top: 0.5rem; margin-right: 1rem;\"></span><div style=\"width: 100%; height: 2rem; display: flex; justify-content: space-evenly; padding: 0.25rem; text-align: center; font-weight: 700\"><span style=\"width: 6rem; margin-top: 0.25em; color: #EBCB8B\">AUROC</span><span style=\"width: 6rem; margin-top: 0.25em; color: #A3BE8C;\">Accuracy</span><span style=\"width: 6rem; margin-top: 0.25em; color: #BF616A\">F1</span><span style=\"width: 6rem; margin-top: 0.25em; color: #B48EAD\">Recall</span><span style=\"width: 6rem; margin-top: 0.25em; color: #D08770\">R2</span></div></div><div style=\"max-width: 100%; height: 2rem; display: flex; margin-top: 0.5rem;\"><div style=\"min-width: 5rem; margin-top: 0.5rem; margin-right: 1rem; font-weight: 700; color: ghostwhite;\">Validation</div><div style=\"width: 100%; height: 2rem; display: flex; justify-content: space-evenly; padding: 0.25rem; border-radius: 4px; box-shadow: 0 4px 6px 2px black; text-align: center; background: #3B4252\"><span style=\"width: 6rem; margin-top: 0.25em; color: #EBCB8B\">0.634602850572451</span><span style=\"width: 6rem; margin-top: 0.25em; color: #A3BE8C\">0.81796875</span><span style=\"width: 6rem; margin-top: 0.25em; color: #BF616A\">0.8998710786420284</span><span style=\"width: 6rem; margin-top: 0.25em; color: #B48EAD\">1.0</span><span style=\"width: 6rem; margin-top: 0.25em; color: #D08770\">0.81796875</span></div></div><div style=\"max-width: 100%; height: 2rem; display: flex; margin-top: 1.5rem; margin-bottom: 1rem;\"><div style=\"min-width: 5rem; margin-top: 0.5rem; margin-right: 1rem; font-weight: 700; color: ghostwhite;\">Training</div><div style=\"width: 100%; height: 2rem; display: flex; justify-content: space-evenly; padding: 0.25rem; border-radius: 4px; box-shadow: 0 4px 6px 2px black; text-align: center; background: #3B4252\"><span style=\"width: 6rem; margin-top: 0.25em; color: #EBCB8B\">0.7097380631410375</span><span style=\"width: 6rem; margin-top: 0.25em; color: #A3BE8C\">0.837109375</span><span style=\"width: 6rem; margin-top: 0.25em; color: #BF616A\">0.9107257546563905</span><span style=\"width: 6rem; margin-top: 0.25em; color: #B48EAD\">0.9955534753100866</span><span style=\"width: 6rem; margin-top: 0.25em; color: #D08770\">0.837109375</span></div></div></div>"
      ],
      "text/plain": [
       "<IPython.core.display.HTML object>"
      ]
     },
     "metadata": {},
     "output_type": "display_data"
    }
   ],
   "source": [
    "from src.models.eval_model import eval_model\n",
    "\n",
    "model, roc_score_train, roc_score_valid = eval_model(log_reg, X_train, y_train, X_valid, y_valid)"
   ]
  },
  {
   "cell_type": "code",
   "execution_count": 65,
   "id": "challenging-qatar",
   "metadata": {},
   "outputs": [
    {
     "name": "stdout",
     "output_type": "stream",
     "text": [
      "Predictions saved to ../data/predictions/au-ron_week-1_0.70974.csv\n"
     ]
    },
    {
     "data": {
      "text/html": [
       "<div>\n",
       "<style scoped>\n",
       "    .dataframe tbody tr th:only-of-type {\n",
       "        vertical-align: middle;\n",
       "    }\n",
       "\n",
       "    .dataframe tbody tr th {\n",
       "        vertical-align: top;\n",
       "    }\n",
       "\n",
       "    .dataframe thead th {\n",
       "        text-align: right;\n",
       "    }\n",
       "</style>\n",
       "<table border=\"1\" class=\"dataframe\">\n",
       "  <thead>\n",
       "    <tr style=\"text-align: right;\">\n",
       "      <th></th>\n",
       "      <th>Id</th>\n",
       "      <th>TARGET_5Yrs</th>\n",
       "    </tr>\n",
       "  </thead>\n",
       "  <tbody>\n",
       "    <tr>\n",
       "      <th>0</th>\n",
       "      <td>0.0</td>\n",
       "      <td>0.839172</td>\n",
       "    </tr>\n",
       "    <tr>\n",
       "      <th>1</th>\n",
       "      <td>1.0</td>\n",
       "      <td>0.816425</td>\n",
       "    </tr>\n",
       "    <tr>\n",
       "      <th>2</th>\n",
       "      <td>2.0</td>\n",
       "      <td>0.909027</td>\n",
       "    </tr>\n",
       "    <tr>\n",
       "      <th>3</th>\n",
       "      <td>3.0</td>\n",
       "      <td>0.932781</td>\n",
       "    </tr>\n",
       "    <tr>\n",
       "      <th>4</th>\n",
       "      <td>4.0</td>\n",
       "      <td>0.752091</td>\n",
       "    </tr>\n",
       "    <tr>\n",
       "      <th>...</th>\n",
       "      <td>...</td>\n",
       "      <td>...</td>\n",
       "    </tr>\n",
       "    <tr>\n",
       "      <th>3794</th>\n",
       "      <td>3794.0</td>\n",
       "      <td>0.949019</td>\n",
       "    </tr>\n",
       "    <tr>\n",
       "      <th>3795</th>\n",
       "      <td>3795.0</td>\n",
       "      <td>0.815179</td>\n",
       "    </tr>\n",
       "    <tr>\n",
       "      <th>3796</th>\n",
       "      <td>3796.0</td>\n",
       "      <td>0.740816</td>\n",
       "    </tr>\n",
       "    <tr>\n",
       "      <th>3797</th>\n",
       "      <td>3797.0</td>\n",
       "      <td>0.955407</td>\n",
       "    </tr>\n",
       "    <tr>\n",
       "      <th>3798</th>\n",
       "      <td>3798.0</td>\n",
       "      <td>0.750566</td>\n",
       "    </tr>\n",
       "  </tbody>\n",
       "</table>\n",
       "<p>3799 rows × 2 columns</p>\n",
       "</div>"
      ],
      "text/plain": [
       "          Id  TARGET_5Yrs\n",
       "0        0.0     0.839172\n",
       "1        1.0     0.816425\n",
       "2        2.0     0.909027\n",
       "3        3.0     0.932781\n",
       "4        4.0     0.752091\n",
       "...      ...          ...\n",
       "3794  3794.0     0.949019\n",
       "3795  3795.0     0.815179\n",
       "3796  3796.0     0.740816\n",
       "3797  3797.0     0.955407\n",
       "3798  3798.0     0.750566\n",
       "\n",
       "[3799 rows x 2 columns]"
      ]
     },
     "execution_count": 65,
     "metadata": {},
     "output_type": "execute_result"
    }
   ],
   "source": [
    "from src.models.save_predictions import save_predictions\n",
    "\n",
    "test_data = pd.read_csv('../data/raw/test.csv')\n",
    "test_data = test_data.loc[:, 'GP':'TOV']\n",
    "test_data = scaler.transform(test_data)\n",
    "\n",
    "save_predictions('au-ron_week-1_0.70974.csv', log_reg, test_data)\n",
    "\n",
    "pd.read_csv('../data/predictions/au-ron_week-1_0.70974.csv')"
   ]
  }
 ],
 "metadata": {
  "kernelspec": {
   "display_name": "Python 3",
   "language": "python",
   "name": "python3"
  },
  "language_info": {
   "codemirror_mode": {
    "name": "ipython",
    "version": 3
   },
   "file_extension": ".py",
   "mimetype": "text/x-python",
   "name": "python",
   "nbconvert_exporter": "python",
   "pygments_lexer": "ipython3",
   "version": "3.9.1"
  }
 },
 "nbformat": 4,
 "nbformat_minor": 5
}
