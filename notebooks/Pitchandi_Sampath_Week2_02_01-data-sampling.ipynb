{
 "cells": [
  {
   "cell_type": "code",
   "execution_count": 1,
   "id": "moderate-functionality",
   "metadata": {},
   "outputs": [],
   "source": [
    "import os\n",
    "import sys\n",
    "module_path = os.path.abspath(os.path.join('..'))\n",
    "if module_path not in sys.path:\n",
    "    sys.path.append(module_path)\n",
    "    \n",
    "import pandas as pd\n",
    "import numpy as np\n",
    "from joblib import dump\n",
    "from src.models import eval_model as evm\n",
    "from src.models import eval_baseline as evb\n",
    "from sklearn.utils import resample\n",
    "%load_ext autoreload\n",
    "%autoreload 2"
   ]
  },
  {
   "cell_type": "code",
   "execution_count": 2,
   "id": "advisory-introduction",
   "metadata": {},
   "outputs": [],
   "source": [
    "df = pd.read_csv(\"../data/processed/df_cleaned_nba_prediction.csv\")"
   ]
  },
  {
   "cell_type": "code",
   "execution_count": 3,
   "id": "solar-beauty",
   "metadata": {},
   "outputs": [
    {
     "data": {
      "text/html": [
       "<div>\n",
       "<style scoped>\n",
       "    .dataframe tbody tr th:only-of-type {\n",
       "        vertical-align: middle;\n",
       "    }\n",
       "\n",
       "    .dataframe tbody tr th {\n",
       "        vertical-align: top;\n",
       "    }\n",
       "\n",
       "    .dataframe thead th {\n",
       "        text-align: right;\n",
       "    }\n",
       "</style>\n",
       "<table border=\"1\" class=\"dataframe\">\n",
       "  <thead>\n",
       "    <tr style=\"text-align: right;\">\n",
       "      <th></th>\n",
       "      <th>GP</th>\n",
       "      <th>MIN</th>\n",
       "      <th>PTS</th>\n",
       "      <th>FGM</th>\n",
       "      <th>FGA</th>\n",
       "      <th>3P Made</th>\n",
       "      <th>3PA</th>\n",
       "      <th>FTM</th>\n",
       "      <th>FTA</th>\n",
       "      <th>OREB</th>\n",
       "      <th>...</th>\n",
       "      <th>REB</th>\n",
       "      <th>AST</th>\n",
       "      <th>STL</th>\n",
       "      <th>BLK</th>\n",
       "      <th>TOV</th>\n",
       "      <th>TARGET_5Yrs</th>\n",
       "      <th>CALC3P%</th>\n",
       "      <th>CALCFG%</th>\n",
       "      <th>CALCFT%</th>\n",
       "      <th>TARGET_5Yrs_Inv</th>\n",
       "    </tr>\n",
       "  </thead>\n",
       "  <tbody>\n",
       "    <tr>\n",
       "      <th>0</th>\n",
       "      <td>80</td>\n",
       "      <td>24.3</td>\n",
       "      <td>7.8</td>\n",
       "      <td>3.0</td>\n",
       "      <td>6.4</td>\n",
       "      <td>0.1</td>\n",
       "      <td>0.3</td>\n",
       "      <td>2.0</td>\n",
       "      <td>2.9</td>\n",
       "      <td>2.2</td>\n",
       "      <td>...</td>\n",
       "      <td>3.8</td>\n",
       "      <td>3.2</td>\n",
       "      <td>1.1</td>\n",
       "      <td>0.2</td>\n",
       "      <td>1.6</td>\n",
       "      <td>1</td>\n",
       "      <td>33.333333</td>\n",
       "      <td>46.875000</td>\n",
       "      <td>68.965517</td>\n",
       "      <td>0</td>\n",
       "    </tr>\n",
       "    <tr>\n",
       "      <th>1</th>\n",
       "      <td>75</td>\n",
       "      <td>21.8</td>\n",
       "      <td>10.5</td>\n",
       "      <td>4.2</td>\n",
       "      <td>7.9</td>\n",
       "      <td>0.0</td>\n",
       "      <td>0.0</td>\n",
       "      <td>2.4</td>\n",
       "      <td>3.6</td>\n",
       "      <td>3.6</td>\n",
       "      <td>...</td>\n",
       "      <td>6.6</td>\n",
       "      <td>0.7</td>\n",
       "      <td>0.5</td>\n",
       "      <td>0.6</td>\n",
       "      <td>1.4</td>\n",
       "      <td>1</td>\n",
       "      <td>0.000000</td>\n",
       "      <td>53.164557</td>\n",
       "      <td>66.666667</td>\n",
       "      <td>0</td>\n",
       "    </tr>\n",
       "    <tr>\n",
       "      <th>2</th>\n",
       "      <td>85</td>\n",
       "      <td>19.1</td>\n",
       "      <td>4.5</td>\n",
       "      <td>1.9</td>\n",
       "      <td>4.5</td>\n",
       "      <td>0.4</td>\n",
       "      <td>1.2</td>\n",
       "      <td>0.4</td>\n",
       "      <td>0.6</td>\n",
       "      <td>0.6</td>\n",
       "      <td>...</td>\n",
       "      <td>2.4</td>\n",
       "      <td>0.8</td>\n",
       "      <td>0.4</td>\n",
       "      <td>0.2</td>\n",
       "      <td>0.6</td>\n",
       "      <td>1</td>\n",
       "      <td>33.333333</td>\n",
       "      <td>42.222222</td>\n",
       "      <td>66.666667</td>\n",
       "      <td>0</td>\n",
       "    </tr>\n",
       "    <tr>\n",
       "      <th>3</th>\n",
       "      <td>63</td>\n",
       "      <td>19.1</td>\n",
       "      <td>8.2</td>\n",
       "      <td>3.5</td>\n",
       "      <td>6.7</td>\n",
       "      <td>0.3</td>\n",
       "      <td>0.8</td>\n",
       "      <td>0.9</td>\n",
       "      <td>1.5</td>\n",
       "      <td>0.8</td>\n",
       "      <td>...</td>\n",
       "      <td>3.0</td>\n",
       "      <td>1.8</td>\n",
       "      <td>0.4</td>\n",
       "      <td>0.1</td>\n",
       "      <td>1.9</td>\n",
       "      <td>1</td>\n",
       "      <td>37.500000</td>\n",
       "      <td>52.238806</td>\n",
       "      <td>60.000000</td>\n",
       "      <td>0</td>\n",
       "    </tr>\n",
       "    <tr>\n",
       "      <th>4</th>\n",
       "      <td>63</td>\n",
       "      <td>17.8</td>\n",
       "      <td>3.7</td>\n",
       "      <td>1.7</td>\n",
       "      <td>3.4</td>\n",
       "      <td>0.5</td>\n",
       "      <td>1.4</td>\n",
       "      <td>0.2</td>\n",
       "      <td>0.5</td>\n",
       "      <td>2.4</td>\n",
       "      <td>...</td>\n",
       "      <td>4.9</td>\n",
       "      <td>0.4</td>\n",
       "      <td>0.4</td>\n",
       "      <td>0.6</td>\n",
       "      <td>0.7</td>\n",
       "      <td>1</td>\n",
       "      <td>35.714286</td>\n",
       "      <td>50.000000</td>\n",
       "      <td>40.000000</td>\n",
       "      <td>0</td>\n",
       "    </tr>\n",
       "    <tr>\n",
       "      <th>...</th>\n",
       "      <td>...</td>\n",
       "      <td>...</td>\n",
       "      <td>...</td>\n",
       "      <td>...</td>\n",
       "      <td>...</td>\n",
       "      <td>...</td>\n",
       "      <td>...</td>\n",
       "      <td>...</td>\n",
       "      <td>...</td>\n",
       "      <td>...</td>\n",
       "      <td>...</td>\n",
       "      <td>...</td>\n",
       "      <td>...</td>\n",
       "      <td>...</td>\n",
       "      <td>...</td>\n",
       "      <td>...</td>\n",
       "      <td>...</td>\n",
       "      <td>...</td>\n",
       "      <td>...</td>\n",
       "      <td>...</td>\n",
       "      <td>...</td>\n",
       "    </tr>\n",
       "    <tr>\n",
       "      <th>7995</th>\n",
       "      <td>32</td>\n",
       "      <td>9.2</td>\n",
       "      <td>1.8</td>\n",
       "      <td>0.7</td>\n",
       "      <td>1.8</td>\n",
       "      <td>0.0</td>\n",
       "      <td>0.0</td>\n",
       "      <td>0.4</td>\n",
       "      <td>0.6</td>\n",
       "      <td>0.3</td>\n",
       "      <td>...</td>\n",
       "      <td>1.9</td>\n",
       "      <td>0.5</td>\n",
       "      <td>0.3</td>\n",
       "      <td>0.2</td>\n",
       "      <td>0.4</td>\n",
       "      <td>1</td>\n",
       "      <td>0.000000</td>\n",
       "      <td>38.888889</td>\n",
       "      <td>66.666667</td>\n",
       "      <td>0</td>\n",
       "    </tr>\n",
       "    <tr>\n",
       "      <th>7996</th>\n",
       "      <td>54</td>\n",
       "      <td>6.0</td>\n",
       "      <td>1.8</td>\n",
       "      <td>0.7</td>\n",
       "      <td>1.4</td>\n",
       "      <td>0.1</td>\n",
       "      <td>0.1</td>\n",
       "      <td>0.2</td>\n",
       "      <td>0.4</td>\n",
       "      <td>1.0</td>\n",
       "      <td>...</td>\n",
       "      <td>2.0</td>\n",
       "      <td>0.1</td>\n",
       "      <td>0.0</td>\n",
       "      <td>0.3</td>\n",
       "      <td>0.3</td>\n",
       "      <td>1</td>\n",
       "      <td>100.000000</td>\n",
       "      <td>50.000000</td>\n",
       "      <td>50.000000</td>\n",
       "      <td>0</td>\n",
       "    </tr>\n",
       "    <tr>\n",
       "      <th>7997</th>\n",
       "      <td>85</td>\n",
       "      <td>28.2</td>\n",
       "      <td>10.7</td>\n",
       "      <td>4.0</td>\n",
       "      <td>9.0</td>\n",
       "      <td>0.2</td>\n",
       "      <td>0.6</td>\n",
       "      <td>2.8</td>\n",
       "      <td>3.9</td>\n",
       "      <td>1.0</td>\n",
       "      <td>...</td>\n",
       "      <td>3.1</td>\n",
       "      <td>3.4</td>\n",
       "      <td>1.2</td>\n",
       "      <td>0.2</td>\n",
       "      <td>1.8</td>\n",
       "      <td>1</td>\n",
       "      <td>33.333333</td>\n",
       "      <td>44.444444</td>\n",
       "      <td>71.794872</td>\n",
       "      <td>0</td>\n",
       "    </tr>\n",
       "    <tr>\n",
       "      <th>7998</th>\n",
       "      <td>39</td>\n",
       "      <td>7.7</td>\n",
       "      <td>2.5</td>\n",
       "      <td>1.0</td>\n",
       "      <td>2.3</td>\n",
       "      <td>0.0</td>\n",
       "      <td>0.0</td>\n",
       "      <td>0.6</td>\n",
       "      <td>0.7</td>\n",
       "      <td>0.4</td>\n",
       "      <td>...</td>\n",
       "      <td>0.9</td>\n",
       "      <td>0.2</td>\n",
       "      <td>0.3</td>\n",
       "      <td>0.3</td>\n",
       "      <td>0.5</td>\n",
       "      <td>1</td>\n",
       "      <td>0.000000</td>\n",
       "      <td>43.478261</td>\n",
       "      <td>85.714286</td>\n",
       "      <td>0</td>\n",
       "    </tr>\n",
       "    <tr>\n",
       "      <th>7999</th>\n",
       "      <td>49</td>\n",
       "      <td>19.2</td>\n",
       "      <td>4.8</td>\n",
       "      <td>1.7</td>\n",
       "      <td>5.1</td>\n",
       "      <td>0.7</td>\n",
       "      <td>2.4</td>\n",
       "      <td>0.8</td>\n",
       "      <td>1.3</td>\n",
       "      <td>0.1</td>\n",
       "      <td>...</td>\n",
       "      <td>1.2</td>\n",
       "      <td>3.5</td>\n",
       "      <td>0.9</td>\n",
       "      <td>0.0</td>\n",
       "      <td>1.4</td>\n",
       "      <td>1</td>\n",
       "      <td>29.166667</td>\n",
       "      <td>33.333333</td>\n",
       "      <td>61.538462</td>\n",
       "      <td>0</td>\n",
       "    </tr>\n",
       "  </tbody>\n",
       "</table>\n",
       "<p>8000 rows × 21 columns</p>\n",
       "</div>"
      ],
      "text/plain": [
       "      GP   MIN   PTS  FGM  FGA  3P Made  3PA  FTM  FTA  OREB  ...  REB  AST  \\\n",
       "0     80  24.3   7.8  3.0  6.4      0.1  0.3  2.0  2.9   2.2  ...  3.8  3.2   \n",
       "1     75  21.8  10.5  4.2  7.9      0.0  0.0  2.4  3.6   3.6  ...  6.6  0.7   \n",
       "2     85  19.1   4.5  1.9  4.5      0.4  1.2  0.4  0.6   0.6  ...  2.4  0.8   \n",
       "3     63  19.1   8.2  3.5  6.7      0.3  0.8  0.9  1.5   0.8  ...  3.0  1.8   \n",
       "4     63  17.8   3.7  1.7  3.4      0.5  1.4  0.2  0.5   2.4  ...  4.9  0.4   \n",
       "...   ..   ...   ...  ...  ...      ...  ...  ...  ...   ...  ...  ...  ...   \n",
       "7995  32   9.2   1.8  0.7  1.8      0.0  0.0  0.4  0.6   0.3  ...  1.9  0.5   \n",
       "7996  54   6.0   1.8  0.7  1.4      0.1  0.1  0.2  0.4   1.0  ...  2.0  0.1   \n",
       "7997  85  28.2  10.7  4.0  9.0      0.2  0.6  2.8  3.9   1.0  ...  3.1  3.4   \n",
       "7998  39   7.7   2.5  1.0  2.3      0.0  0.0  0.6  0.7   0.4  ...  0.9  0.2   \n",
       "7999  49  19.2   4.8  1.7  5.1      0.7  2.4  0.8  1.3   0.1  ...  1.2  3.5   \n",
       "\n",
       "      STL  BLK  TOV  TARGET_5Yrs     CALC3P%    CALCFG%    CALCFT%  \\\n",
       "0     1.1  0.2  1.6            1   33.333333  46.875000  68.965517   \n",
       "1     0.5  0.6  1.4            1    0.000000  53.164557  66.666667   \n",
       "2     0.4  0.2  0.6            1   33.333333  42.222222  66.666667   \n",
       "3     0.4  0.1  1.9            1   37.500000  52.238806  60.000000   \n",
       "4     0.4  0.6  0.7            1   35.714286  50.000000  40.000000   \n",
       "...   ...  ...  ...          ...         ...        ...        ...   \n",
       "7995  0.3  0.2  0.4            1    0.000000  38.888889  66.666667   \n",
       "7996  0.0  0.3  0.3            1  100.000000  50.000000  50.000000   \n",
       "7997  1.2  0.2  1.8            1   33.333333  44.444444  71.794872   \n",
       "7998  0.3  0.3  0.5            1    0.000000  43.478261  85.714286   \n",
       "7999  0.9  0.0  1.4            1   29.166667  33.333333  61.538462   \n",
       "\n",
       "      TARGET_5Yrs_Inv  \n",
       "0                   0  \n",
       "1                   0  \n",
       "2                   0  \n",
       "3                   0  \n",
       "4                   0  \n",
       "...               ...  \n",
       "7995                0  \n",
       "7996                0  \n",
       "7997                0  \n",
       "7998                0  \n",
       "7999                0  \n",
       "\n",
       "[8000 rows x 21 columns]"
      ]
     },
     "execution_count": 3,
     "metadata": {},
     "output_type": "execute_result"
    }
   ],
   "source": [
    "df"
   ]
  },
  {
   "cell_type": "code",
   "execution_count": 4,
   "id": "therapeutic-karaoke",
   "metadata": {},
   "outputs": [],
   "source": [
    "df_minority = df[df['TARGET_5Yrs_Inv']==1]\n",
    "df_majority = df[df['TARGET_5Yrs_Inv']==0]"
   ]
  },
  {
   "cell_type": "code",
   "execution_count": 5,
   "id": "pleasant-origin",
   "metadata": {},
   "outputs": [
    {
     "data": {
      "text/plain": [
       "[(1331, 21), (6669, 21)]"
      ]
     },
     "execution_count": 5,
     "metadata": {},
     "output_type": "execute_result"
    }
   ],
   "source": [
    "[df_minority.shape , df_majority.shape]"
   ]
  },
  {
   "cell_type": "code",
   "execution_count": 6,
   "id": "successful-watson",
   "metadata": {},
   "outputs": [
    {
     "data": {
      "text/plain": [
       "(1    1331\n",
       " Name: TARGET_5Yrs_Inv, dtype: int64,\n",
       " 0    6669\n",
       " Name: TARGET_5Yrs_Inv, dtype: int64)"
      ]
     },
     "execution_count": 6,
     "metadata": {},
     "output_type": "execute_result"
    }
   ],
   "source": [
    "df_minority['TARGET_5Yrs_Inv'].value_counts(), df_majority['TARGET_5Yrs_Inv'].value_counts()"
   ]
  },
  {
   "cell_type": "code",
   "execution_count": 7,
   "id": "complex-panic",
   "metadata": {},
   "outputs": [],
   "source": [
    "df_minority_upsampled = resample(df_minority,replace=True,n_samples=6669,random_state=123) \n",
    "df_majority_downsampled = resample(df_majority,replace=True,n_samples=1331,random_state=123) "
   ]
  },
  {
   "cell_type": "code",
   "execution_count": 8,
   "id": "defined-metallic",
   "metadata": {},
   "outputs": [
    {
     "data": {
      "text/plain": [
       "[(6669, 21), (1331, 21)]"
      ]
     },
     "execution_count": 8,
     "metadata": {},
     "output_type": "execute_result"
    }
   ],
   "source": [
    "[df_minority_upsampled.shape , df_majority_downsampled.shape]"
   ]
  },
  {
   "cell_type": "code",
   "execution_count": 9,
   "id": "coastal-animation",
   "metadata": {},
   "outputs": [
    {
     "data": {
      "text/plain": [
       "(1    6669\n",
       " Name: TARGET_5Yrs_Inv, dtype: int64,\n",
       " 0    1331\n",
       " Name: TARGET_5Yrs_Inv, dtype: int64)"
      ]
     },
     "execution_count": 9,
     "metadata": {},
     "output_type": "execute_result"
    }
   ],
   "source": [
    "df_minority_upsampled['TARGET_5Yrs_Inv'].value_counts(), df_majority_downsampled['TARGET_5Yrs_Inv'].value_counts()"
   ]
  },
  {
   "cell_type": "markdown",
   "id": "recorded-heather",
   "metadata": {},
   "source": [
    "#### Save Data as CSV for processing"
   ]
  },
  {
   "cell_type": "code",
   "execution_count": 10,
   "id": "stuck-senator",
   "metadata": {},
   "outputs": [
    {
     "data": {
      "text/plain": [
       "TARGET_5Yrs  TARGET_5Yrs_Inv\n",
       "0            1                  6669\n",
       "1            0                  6669\n",
       "dtype: int64"
      ]
     },
     "execution_count": 10,
     "metadata": {},
     "output_type": "execute_result"
    }
   ],
   "source": [
    "df_upsampled = pd.concat([df_majority, df_minority_upsampled])\n",
    "df_upsampled[['TARGET_5Yrs','TARGET_5Yrs_Inv']].value_counts()"
   ]
  },
  {
   "cell_type": "code",
   "execution_count": 11,
   "id": "geological-qatar",
   "metadata": {},
   "outputs": [
    {
     "data": {
      "text/plain": [
       "TARGET_5Yrs  TARGET_5Yrs_Inv\n",
       "0            1                  1331\n",
       "1            0                  1331\n",
       "dtype: int64"
      ]
     },
     "execution_count": 11,
     "metadata": {},
     "output_type": "execute_result"
    }
   ],
   "source": [
    "df_downsampled = pd.concat([df_majority_downsampled, df_minority])\n",
    "df_downsampled[['TARGET_5Yrs','TARGET_5Yrs_Inv']].value_counts()"
   ]
  },
  {
   "cell_type": "code",
   "execution_count": 12,
   "id": "impaired-amateur",
   "metadata": {},
   "outputs": [],
   "source": [
    "df_upsampled.to_csv('../data/processed/df_cleaned_upsampled_nba_prediction.csv',index=False)\n",
    "df_downsampled.to_csv('../data/processed/df_cleaned_downsampled_nba_prediction.csv',index=False)"
   ]
  },
  {
   "cell_type": "code",
   "execution_count": null,
   "id": "broad-array",
   "metadata": {},
   "outputs": [],
   "source": []
  }
 ],
 "metadata": {
  "kernelspec": {
   "display_name": "Python 3",
   "language": "python",
   "name": "python3"
  },
  "language_info": {
   "codemirror_mode": {
    "name": "ipython",
    "version": 3
   },
   "file_extension": ".py",
   "mimetype": "text/x-python",
   "name": "python",
   "nbconvert_exporter": "python",
   "pygments_lexer": "ipython3",
   "version": "3.9.1"
  }
 },
 "nbformat": 4,
 "nbformat_minor": 5
}
