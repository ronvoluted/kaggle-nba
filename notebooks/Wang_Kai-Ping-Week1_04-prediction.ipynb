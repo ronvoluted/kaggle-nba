{
 "metadata": {
  "language_info": {
   "codemirror_mode": {
    "name": "ipython",
    "version": 3
   },
   "file_extension": ".py",
   "mimetype": "text/x-python",
   "name": "python",
   "nbconvert_exporter": "python",
   "pygments_lexer": "ipython3",
   "version": "3.9.1-final"
  },
  "orig_nbformat": 2,
  "kernelspec": {
   "name": "python3",
   "display_name": "Python 3",
   "language": "python"
  }
 },
 "nbformat": 4,
 "nbformat_minor": 2,
 "cells": [
  {
   "cell_type": "code",
   "execution_count": 1,
   "metadata": {},
   "outputs": [],
   "source": [
    "import os\n",
    "import sys\n",
    "module_path = os.path.abspath(os.path.join('..'))\n",
    "if module_path not in sys.path:\n",
    "    sys.path.append(module_path)\n",
    "\n",
    "# OPTIONAL: Load the \"autoreload\" extension so that code can change\n",
    "%load_ext autoreload\n",
    "\n",
    "# OPTIONAL: always reload modules so that as you change code in src, it gets loaded\n",
    "%autoreload 2\n",
    "\n",
    "import joblib\n",
    "import numpy as np\n",
    "import pandas as pd\n",
    "from src.features import minMaxScaling"
   ]
  },
  {
   "cell_type": "code",
   "execution_count": 2,
   "metadata": {},
   "outputs": [
    {
     "output_type": "execute_result",
     "data": {
      "text/plain": [
       "LogisticRegression(C=30, solver='liblinear')"
      ]
     },
     "metadata": {},
     "execution_count": 2
    }
   ],
   "source": [
    "classifier = joblib.load(\"../models/kpw_best_classifier\")\n",
    "classifier"
   ]
  },
  {
   "cell_type": "code",
   "execution_count": 3,
   "metadata": {},
   "outputs": [],
   "source": [
    "X = joblib.load(\"../data/processed/X\")\n",
    "y = joblib.load(\"../data/processed/y\")\n",
    "X_test = joblib.load(\"../data/processed/X_test\")\n",
    "X_test_id = joblib.load(\"../data/processed/X_test_id\")"
   ]
  },
  {
   "cell_type": "code",
   "execution_count": 4,
   "metadata": {},
   "outputs": [],
   "source": [
    "sc, X, X_test = minMaxScaling.scale(X,X_test)"
   ]
  },
  {
   "cell_type": "code",
   "execution_count": 5,
   "metadata": {},
   "outputs": [],
   "source": [
    "model = classifier.fit(X,y)"
   ]
  },
  {
   "cell_type": "code",
   "execution_count": 6,
   "metadata": {},
   "outputs": [],
   "source": [
    "y_pred_test = model.predict_proba(X_test)[:,-1]\n",
    "y_pred_test.shape=[3799,1]\n",
    "np.savetxt(\"../data/processed/kpw-best-submission.csv\", y_pred_test, delimiter=\",\" , fmt='%4f', header=\"TARGET_5Yrs_Prob\")"
   ]
  },
  {
   "cell_type": "code",
   "execution_count": 7,
   "metadata": {},
   "outputs": [],
   "source": [
    "df_test = pd.read_csv(\"../data/raw/test.csv\")\n",
    "df_pred = pd.read_csv(\"../data/processed/kpw-best-submission.csv\")"
   ]
  },
  {
   "cell_type": "code",
   "execution_count": 8,
   "metadata": {},
   "outputs": [],
   "source": [
    "df_test_id = df_test.iloc[:,1:2]\n",
    "df_test_id['TARGET_5Yrs'] = df_pred\n",
    "df_test_id.to_csv('../data/processed/kpw-final-submission.csv',index=False)"
   ]
  }
 ]
}