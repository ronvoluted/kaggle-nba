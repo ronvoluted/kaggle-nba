{
 "metadata": {
  "language_info": {
   "codemirror_mode": {
    "name": "ipython",
    "version": 3
   },
   "file_extension": ".py",
   "mimetype": "text/x-python",
   "name": "python",
   "nbconvert_exporter": "python",
   "pygments_lexer": "ipython3",
   "version": "3.9.1-final"
  },
  "orig_nbformat": 2,
  "kernelspec": {
   "name": "python3",
   "display_name": "Python 3",
   "language": "python"
  }
 },
 "nbformat": 4,
 "nbformat_minor": 2,
 "cells": [
  {
   "cell_type": "code",
   "execution_count": 1,
   "metadata": {},
   "outputs": [],
   "source": [
    "import joblib\n",
    "import numpy as np\n",
    "import pandas as pd\n",
    "from sklearn.preprocessing import MinMaxScaler"
   ]
  },
  {
   "cell_type": "code",
   "execution_count": 2,
   "metadata": {},
   "outputs": [
    {
     "output_type": "execute_result",
     "data": {
      "text/plain": [
       "LogisticRegression()"
      ]
     },
     "metadata": {},
     "execution_count": 2
    }
   ],
   "source": [
    "classifier = joblib.load(\"../models/kpw_best_classifier\")\n",
    "classifier"
   ]
  },
  {
   "cell_type": "code",
   "execution_count": 3,
   "metadata": {},
   "outputs": [],
   "source": [
    "X = joblib.load(\"../data/processed/X\")\n",
    "y = joblib.load(\"../data/processed/y\")\n",
    "sc = MinMaxScaler().fit(X)\n",
    "X = sc.transform(X)"
   ]
  },
  {
   "cell_type": "code",
   "execution_count": 4,
   "metadata": {},
   "outputs": [
    {
     "output_type": "execute_result",
     "data": {
      "text/plain": [
       "['../models/kpw_best_model']"
      ]
     },
     "metadata": {},
     "execution_count": 4
    }
   ],
   "source": [
    "model = classifier.fit(X,y)\n",
    "joblib.dump(model, \"../models/kpw_best_model\")"
   ]
  },
  {
   "cell_type": "code",
   "execution_count": 5,
   "metadata": {},
   "outputs": [
    {
     "output_type": "execute_result",
     "data": {
      "text/plain": [
       "array([[0.45081967, 0.08744711, 0.09580838, ..., 0.05555556, 0.01587302,\n",
       "        0.13461538],\n",
       "       [0.3442623 , 0.23131171, 0.27844311, ..., 0.16666667, 0.        ,\n",
       "        0.32692308],\n",
       "       [0.66393443, 0.43723554, 0.31437126, ..., 0.36111111, 0.01587302,\n",
       "        0.36538462],\n",
       "       ...,\n",
       "       [0.42622951, 0.09873061, 0.03892216, ..., 0.11111111, 0.01058201,\n",
       "        0.07692308],\n",
       "       [0.72131148, 0.49929478, 0.41017964, ..., 0.36111111, 0.01587302,\n",
       "        0.44230769],\n",
       "       [0.44262295, 0.12834979, 0.06586826, ..., 0.08333333, 0.01058201,\n",
       "        0.21153846]])"
      ]
     },
     "metadata": {},
     "execution_count": 5
    }
   ],
   "source": [
    "X_test = joblib.load(\"../data/processed/X_test\")\n",
    "X_test = sc.transform(X_test)\n",
    "X_test"
   ]
  },
  {
   "cell_type": "code",
   "execution_count": 6,
   "metadata": {},
   "outputs": [],
   "source": [
    "X_test_id = joblib.load(\"../data/processed/X_test_id\")"
   ]
  },
  {
   "cell_type": "code",
   "execution_count": 7,
   "metadata": {},
   "outputs": [],
   "source": [
    "y_pred_test = model.predict_proba(X_test)[:,-1]\n",
    "y_pred_test.shape=[3799,1]\n",
    "np.savetxt(\"../data/processed/kpw-best-submission.csv\", y_pred_test, delimiter=\",\" , fmt='%4f', header=\"TARGET_5Yrs_Prob\")"
   ]
  },
  {
   "cell_type": "code",
   "execution_count": 8,
   "metadata": {},
   "outputs": [],
   "source": [
    "df_test = pd.read_csv(\"../data/raw/test.csv\")\n",
    "df_pred = pd.read_csv(\"../data/processed/kpw-best-submission.csv\")"
   ]
  },
  {
   "cell_type": "code",
   "execution_count": 9,
   "metadata": {},
   "outputs": [],
   "source": [
    "df_test_id = df_test.iloc[:,1:2]\n",
    "df_test_id['TARGET_5Yrs'] = df_pred\n",
    "df_test_id.to_csv('../data/processed/kpw-final-submission.csv',index=False)"
   ]
  }
 ]
}