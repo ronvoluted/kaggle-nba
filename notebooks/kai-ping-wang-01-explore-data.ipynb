{
 "metadata": {
  "language_info": {
   "codemirror_mode": {
    "name": "ipython",
    "version": 3
   },
   "file_extension": ".py",
   "mimetype": "text/x-python",
   "name": "python",
   "nbconvert_exporter": "python",
   "pygments_lexer": "ipython3",
   "version": "3.9.1-final"
  },
  "orig_nbformat": 2,
  "kernelspec": {
   "name": "python3",
   "display_name": "Python 3",
   "language": "python"
  }
 },
 "nbformat": 4,
 "nbformat_minor": 2,
 "cells": [
  {
   "cell_type": "code",
   "execution_count": 1,
   "metadata": {},
   "outputs": [],
   "source": [
    "import os\n",
    "import sys\n",
    "module_path = os.path.abspath(os.path.join('..'))\n",
    "if module_path not in sys.path:\n",
    "    sys.path.append(module_path)\n",
    "\n",
    "# OPTIONAL: Load the \"autoreload\" extension so that code can change\n",
    "%load_ext autoreload\n",
    "\n",
    "# OPTIONAL: always reload modules so that as you change code in src, it gets loaded\n",
    "%autoreload 2\n",
    "\n",
    "from src.data import explore_dataset as ex"
   ]
  },
  {
   "cell_type": "code",
   "execution_count": 2,
   "metadata": {},
   "outputs": [
    {
     "output_type": "stream",
     "name": "stdout",
     "text": [
      "=== dataframe info ===\n<class 'pandas.core.frame.DataFrame'>\nRangeIndex: 8000 entries, 0 to 7999\nData columns (total 22 columns):\n #   Column       Non-Null Count  Dtype  \n---  ------       --------------  -----  \n 0   Id_old       8000 non-null   int64  \n 1   Id           8000 non-null   int64  \n 2   GP           8000 non-null   int64  \n 3   MIN          8000 non-null   float64\n 4   PTS          8000 non-null   float64\n 5   FGM          8000 non-null   float64\n 6   FGA          8000 non-null   float64\n 7   FG%          8000 non-null   float64\n 8   3P Made      8000 non-null   float64\n 9   3PA          8000 non-null   float64\n 10  3P%          8000 non-null   float64\n 11  FTM          8000 non-null   float64\n 12  FTA          8000 non-null   float64\n 13  FT%          8000 non-null   float64\n 14  OREB         8000 non-null   float64\n 15  DREB         8000 non-null   float64\n 16  REB          8000 non-null   float64\n 17  AST          8000 non-null   float64\n 18  STL          8000 non-null   float64\n 19  BLK          8000 non-null   float64\n 20  TOV          8000 non-null   float64\n 21  TARGET_5Yrs  8000 non-null   int64  \ndtypes: float64(18), int64(4)\nmemory usage: 1.3 MB\nNone\n=== dataframe shape ===\n(8000, 22)\n=== Target Value Count ===\n1    6669\n0    1331\nName: TARGET_5Yrs, dtype: int64\n=== dataframe describe ===\n             Id_old           Id           GP          MIN          PTS  \\\ncount   8000.000000   8000.00000  8000.000000  8000.000000  8000.000000   \nmean    6856.971000   7798.50000    62.777875    18.576662     7.267088   \nstd     3977.447579   2309.54541    17.118774     8.935263     4.318732   \nmin        4.000000   3799.00000    -8.000000     2.900000     0.800000   \n25%     3413.750000   5798.75000    51.000000    12.000000     4.100000   \n50%     6787.500000   7798.50000    63.000000    16.800000     6.300000   \n75%    10299.250000   9798.25000    74.000000    23.500000     9.500000   \nmax    13798.000000  11798.00000   123.000000    73.800000    34.200000   \n\n               FGM          FGA          FG%      3P Made          3PA  \\\ncount  8000.000000  8000.000000  8000.000000  8000.000000  8000.000000   \nmean      2.807037     6.231212    44.608900     0.264525     0.816562   \nstd       1.693373     3.584559     6.155453     0.384093     1.060964   \nmin       0.300000     0.800000    21.300000    -1.100000    -3.100000   \n25%       1.600000     3.600000    40.400000     0.000000     0.100000   \n50%       2.400000     5.400000    44.400000     0.300000     0.800000   \n75%       3.700000     8.100000    48.700000     0.500000     1.500000   \nmax      13.100000    28.900000    67.200000     1.700000     4.700000   \n\n               3P%          FTM          FTA          FT%         OREB  \\\ncount  8000.000000  8000.000000  8000.000000  8000.000000  8000.000000   \nmean     19.583700     1.392525     1.947788    71.365825     1.077838   \nstd      16.003155     0.926153     1.252352    10.430447     0.785670   \nmin     -38.500000     0.000000     0.000000   -13.300000     0.000000   \n25%       8.400000     0.700000     1.000000    65.000000     0.500000   \n50%      19.500000     1.200000     1.700000    71.400000     0.900000   \n75%      30.600000     1.900000     2.600000    77.500000     1.500000   \nmax      82.100000     8.100000    11.100000   168.900000     5.500000   \n\n              DREB          REB          AST          STL          BLK  \\\ncount  8000.000000  8000.000000  8000.000000  8000.000000  8000.000000   \nmean      2.168500     3.245300     1.624513     0.648687     0.245212   \nstd       1.392224     2.085154     1.355986     0.407626     0.821037   \nmin       0.200000     0.300000     0.000000     0.000000   -17.900000   \n25%       1.100000     1.700000     0.700000     0.300000     0.100000   \n50%       1.900000     2.800000     1.300000     0.600000     0.200000   \n75%       2.900000     4.300000     2.200000     0.900000     0.400000   \nmax      11.000000    15.900000    12.800000     3.600000    18.900000   \n\n               TOV  TARGET_5Yrs  \ncount  8000.000000  8000.000000  \nmean      1.257763     0.833625  \nstd       0.723270     0.372440  \nmin       0.100000     0.000000  \n25%       0.700000     1.000000  \n50%       1.100000     1.000000  \n75%       1.600000     1.000000  \nmax       5.300000     1.000000  \n"
     ]
    }
   ],
   "source": [
    "ex.explore(\"train.csv\")"
   ]
  },
  {
   "cell_type": "code",
   "execution_count": 3,
   "metadata": {},
   "outputs": [
    {
     "output_type": "stream",
     "name": "stdout",
     "text": [
      "=== dataframe info ===\n<class 'pandas.core.frame.DataFrame'>\nRangeIndex: 3799 entries, 0 to 3798\nData columns (total 21 columns):\n #   Column   Non-Null Count  Dtype  \n---  ------   --------------  -----  \n 0   Id_old   3799 non-null   int64  \n 1   Id       3799 non-null   int64  \n 2   GP       3799 non-null   int64  \n 3   MIN      3799 non-null   float64\n 4   PTS      3799 non-null   float64\n 5   FGM      3799 non-null   float64\n 6   FGA      3799 non-null   float64\n 7   FG%      3799 non-null   float64\n 8   3P Made  3799 non-null   float64\n 9   3PA      3799 non-null   float64\n 10  3P%      3799 non-null   float64\n 11  FTM      3799 non-null   float64\n 12  FTA      3799 non-null   float64\n 13  FT%      3799 non-null   float64\n 14  OREB     3799 non-null   float64\n 15  DREB     3799 non-null   float64\n 16  REB      3799 non-null   float64\n 17  AST      3799 non-null   float64\n 18  STL      3799 non-null   float64\n 19  BLK      3799 non-null   float64\n 20  TOV      3799 non-null   float64\ndtypes: float64(18), int64(3)\nmemory usage: 623.4 KB\nNone\n=== dataframe shape ===\n(3799, 21)\n=== dataframe describe ===\n             Id_old           Id           GP          MIN          PTS  \\\ncount   3799.000000  3799.000000  3799.000000  3799.000000  3799.000000   \nmean    7010.614109  1899.000000    62.853909    18.650224     7.328034   \nstd     3954.173641  1096.821164    17.151740     8.727259     4.294724   \nmin        1.000000     0.000000     6.000000     3.700000     0.700000   \n25%     3644.000000   949.500000    51.000000    12.200000     4.200000   \n50%     7062.000000  1899.000000    63.000000    17.000000     6.400000   \n75%    10402.500000  2848.500000    74.000000    23.300000     9.400000   \nmax    13792.000000  3798.000000   126.000000    68.000000    33.000000   \n\n               FGM          FGA          FG%      3P Made          3PA  \\\ncount  3799.000000  3799.000000  3799.000000  3799.000000  3799.000000   \nmean      2.835404     6.302580    44.599079     0.255962     0.796920   \nstd       1.688427     3.579221     6.040168     0.380987     1.052862   \nmin       0.300000     0.800000    25.100000    -1.000000    -2.700000   \n25%       1.600000     3.700000    40.500000     0.000000     0.100000   \n50%       2.500000     5.500000    44.600000     0.300000     0.800000   \n75%       3.700000     8.100000    48.500000     0.500000     1.500000   \nmax      13.400000    26.200000    74.600000     1.600000     4.300000   \n\n               3P%          FTM          FTA          FT%         OREB  \\\ncount  3799.000000  3799.000000  3799.000000  3799.000000  3799.000000   \nmean     19.234746     1.399842     1.953567    71.612924     1.096025   \nstd      15.968989     0.926140     1.250376    10.457336     0.785678   \nmin     -38.000000     0.000000     0.000000    23.700000     0.000000   \n25%       8.500000     0.700000     1.000000    65.000000     0.500000   \n50%      19.400000     1.200000     1.700000    71.500000     0.900000   \n75%      30.250000     1.900000     2.600000    78.000000     1.500000   \nmax      73.800000     7.800000     9.800000   127.100000     6.900000   \n\n              DREB          REB          AST          STL          BLK  \\\ncount  3799.000000  3799.000000  3799.000000  3799.000000  3799.000000   \nmean      2.179495     3.275783     1.636483     0.653593     0.257726   \nstd       1.371935     2.070646     1.335496     0.410573     0.639660   \nmin       0.200000     0.300000     0.000000     0.000000    -7.100000   \n25%       1.200000     1.800000     0.600000     0.400000     0.100000   \n50%       1.900000     2.800000     1.300000     0.600000     0.200000   \n75%       2.900000     4.300000     2.300000     0.900000     0.400000   \nmax      12.000000    18.500000     9.000000     2.700000    14.800000   \n\n               TOV  \ncount  3799.000000  \nmean      1.257910  \nstd       0.712449  \nmin       0.100000  \n25%       0.700000  \n50%       1.100000  \n75%       1.600000  \nmax       5.200000  \n"
     ]
    }
   ],
   "source": [
    "ex.explore(\"test.csv\")"
   ]
  },
  {
   "source": [
    "## Data Quality Concerns\n",
    "- GP, 3PM, 3PA, 3p%, FT%, BLK have negative value as minimum - **Convert to absolute value** - Done\n",
    "- There are potential outliers in the value between 75% mark and MAX is huge jump across all features\n",
    "- Check if all made value is smaller than attempt value\n",
    "- All % values are bit off and not close to Made/attempt - **Consider dropping these fields or recreate them** - Done\n",
    "- BLK has outliers - **Fix it or drop these**\n",
    "- Use ensemble approach - https://scikit-learn.org/stable/modules/generated/sklearn.ensemble.VotingClassifier.html build 25 random weak regressors and let them vote on the prediction\n",
    "- Use **cross-validation** to fully utilize the whole training set\n",
    "- 3PA and FTA has 0 value - Need to ensure 3PM and FTM are also 0 in these cases\n",
    "- Split dataset and use different models for each set\n",
    "    - GP < 30 ... Overfitting\n",
    "    - GP > 30 ... Overfitting\n",
    "    \n",
    "- Target the concept of ROC, set threshold and convert high and low probability to 1 and 0, and leave the grey area as float - Doesn't do much\n",
    "- Convert GP and MIN to be catagorical data like small, medium and large, then use one-hot encoding or 1~5 (This takes away the linear relationship and focus on what's important) - **Having all features help with ROC score**\n",
    "- ROC plot to see if the problem or confusion map to further understand the problem\n",
    "- Rip out outliers\n",
    "- Using Grouping to find out floor and ceilling of all features of 0\n",
    "- Create synthetic data - RESAMPLE\n",
    "- all classifiers have predict_proba for probability generation\n"
   ],
   "cell_type": "markdown",
   "metadata": {}
  }
 ]
}